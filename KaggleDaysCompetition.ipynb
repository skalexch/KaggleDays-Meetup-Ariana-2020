{
  "nbformat": 4,
  "nbformat_minor": 0,
  "metadata": {
    "colab": {
      "name": "KaggleDaysCompetition.ipynb",
      "provenance": [],
      "collapsed_sections": [],
      "machine_shape": "hm"
    },
    "kernelspec": {
      "name": "python3",
      "display_name": "Python 3"
    }
  },
  "cells": [
    {
      "cell_type": "markdown",
      "metadata": {
        "id": "iYDH-46TDtJO",
        "colab_type": "text"
      },
      "source": [
        "# KaggleDays Meetup Ariana2020 Competition\n",
        "\n",
        "---\n",
        "by Skander Chouchene\\\n",
        "This notebook is my entry in the KaggleDays competition that took place in Ariana - Tunisia in February 2020.\\\n",
        "I ranked 8/32.\n",
        "\n",
        "---"
      ]
    },
    {
      "cell_type": "code",
      "metadata": {
        "id": "4oxV_agjmge0",
        "colab_type": "code",
        "colab": {}
      },
      "source": [
        "import pandas as pd\n",
        "import numpy as np\n",
        "import matplotlib.pyplot as plt\n",
        "from sklearn.model_selection import train_test_split\n",
        "from sklearn.linear_model import LinearRegression\n",
        "from scipy import stats\n",
        "from scipy.stats import norm, skew #for some statistics\n",
        "from sklearn.ensemble import RandomForestRegressor,  GradientBoostingRegressor\n",
        "from sklearn.preprocessing import StandardScaler\n",
        "from sklearn.model_selection import KFold, cross_val_score, train_test_split\n",
        "from sklearn.metrics import mean_squared_error, mean_absolute_error\n",
        "import seaborn as sns  #advanced visualization library\n",
        "import requests, zipfile, io\n",
        "import warnings\n",
        "warnings.filterwarnings('ignore')"
      ],
      "execution_count": null,
      "outputs": []
    },
    {
      "cell_type": "code",
      "metadata": {
        "id": "7OLHf2Cnmr6q",
        "colab_type": "code",
        "colab": {}
      },
      "source": [
        "train = pd.read_csv('/content/drive/My Drive/KaggleDays/train.csv')\n",
        "test = pd.read_csv('/content/drive/My Drive/KaggleDays/test.csv')\n",
        "sample_submission = pd.read_csv('/content/drive/My Drive/KaggleDays/SampleSubmission.csv')"
      ],
      "execution_count": null,
      "outputs": []
    },
    {
      "cell_type": "code",
      "metadata": {
        "id": "e8qTNAjsqWyD",
        "colab_type": "code",
        "colab": {}
      },
      "source": [
        "test = pd.read_csv('/content/drive/My Drive/KaggleDays/test.csv')\n"
      ],
      "execution_count": null,
      "outputs": []
    },
    {
      "cell_type": "code",
      "metadata": {
        "id": "se1ny9ZvHDzQ",
        "colab_type": "code",
        "colab": {
          "base_uri": "https://localhost:8080/",
          "height": 35
        },
        "outputId": "cf961b76-623f-4244-ec79-c29042423bb3"
      },
      "source": [
        "test.shape"
      ],
      "execution_count": null,
      "outputs": [
        {
          "output_type": "execute_result",
          "data": {
            "text/plain": [
              "(83210, 15)"
            ]
          },
          "metadata": {
            "tags": []
          },
          "execution_count": 628
        }
      ]
    },
    {
      "cell_type": "code",
      "metadata": {
        "id": "YAQ0M9R-GVfb",
        "colab_type": "code",
        "colab": {}
      },
      "source": [
        "all_data = pd.concat((train, test)).reset_index(drop = True)\n"
      ],
      "execution_count": null,
      "outputs": []
    },
    {
      "cell_type": "code",
      "metadata": {
        "id": "sVFwV6yQE1o3",
        "colab_type": "code",
        "colab": {}
      },
      "source": [
        "new=train.groupby('country')['price'].agg({'price_per_country':'mean'})\n",
        "all_data = pd.merge(all_data,new,how='left',left_on='country',right_on='country')\n",
        "\n",
        "new=train.groupby('province')['price'].agg({'price_per_province':'mean'})\n",
        "all_data = pd.merge(all_data,new,how='left',left_on='province',right_on='province')\n",
        "\n",
        "new=train.groupby('variety')['price'].agg({'price_per_variety':'mean'})\n",
        "all_data = pd.merge(all_data,new,how='left',left_on='variety',right_on='variety')\n",
        "\n",
        "\n",
        "new=train.groupby('winery')['price'].agg({'price_per_winery':'mean'})\n",
        "all_data = pd.merge(all_data,new,how='left',left_on='winery',right_on='winery')"
      ],
      "execution_count": null,
      "outputs": []
    },
    {
      "cell_type": "code",
      "metadata": {
        "id": "8DwAO4VItifA",
        "colab_type": "code",
        "colab": {
          "base_uri": "https://localhost:8080/",
          "height": 35
        },
        "outputId": "3d9c371f-8256-4f3f-9765-1054dba33a4c"
      },
      "source": [
        "train.shape"
      ],
      "execution_count": null,
      "outputs": [
        {
          "output_type": "execute_result",
          "data": {
            "text/plain": [
              "(175000, 14)"
            ]
          },
          "metadata": {
            "tags": []
          },
          "execution_count": 631
        }
      ]
    },
    {
      "cell_type": "code",
      "metadata": {
        "id": "fodMafOfGrge",
        "colab_type": "code",
        "colab": {}
      },
      "source": [
        "missi"
      ],
      "execution_count": null,
      "outputs": []
    },
    {
      "cell_type": "code",
      "metadata": {
        "id": "J38PAX-VncDu",
        "colab_type": "code",
        "colab": {
          "base_uri": "https://localhost:8080/",
          "height": 574
        },
        "outputId": "cd3fe9ce-1ceb-439a-ea2e-20811138022a"
      },
      "source": [
        "train.head()"
      ],
      "execution_count": null,
      "outputs": [
        {
          "output_type": "execute_result",
          "data": {
            "text/html": [
              "<div>\n",
              "<style scoped>\n",
              "    .dataframe tbody tr th:only-of-type {\n",
              "        vertical-align: middle;\n",
              "    }\n",
              "\n",
              "    .dataframe tbody tr th {\n",
              "        vertical-align: top;\n",
              "    }\n",
              "\n",
              "    .dataframe thead th {\n",
              "        text-align: right;\n",
              "    }\n",
              "</style>\n",
              "<table border=\"1\" class=\"dataframe\">\n",
              "  <thead>\n",
              "    <tr style=\"text-align: right;\">\n",
              "      <th></th>\n",
              "      <th>country</th>\n",
              "      <th>description</th>\n",
              "      <th>designation</th>\n",
              "      <th>id</th>\n",
              "      <th>index</th>\n",
              "      <th>points</th>\n",
              "      <th>price</th>\n",
              "      <th>province</th>\n",
              "      <th>region_1</th>\n",
              "      <th>region_2</th>\n",
              "      <th>taster_name</th>\n",
              "      <th>taster_twitter_handle</th>\n",
              "      <th>title</th>\n",
              "      <th>variety</th>\n",
              "      <th>winery</th>\n",
              "      <th>price_per_country</th>\n",
              "      <th>price_per_province</th>\n",
              "      <th>price_per_variety</th>\n",
              "      <th>price_per_winery</th>\n",
              "    </tr>\n",
              "  </thead>\n",
              "  <tbody>\n",
              "    <tr>\n",
              "      <th>0</th>\n",
              "      <td>Portugal</td>\n",
              "      <td>This is a fine rich balanced wine. It has ripe...</td>\n",
              "      <td>Vila Santa Reserva</td>\n",
              "      <td>32027</td>\n",
              "      <td>NaN</td>\n",
              "      <td>88.870874</td>\n",
              "      <td>20.0</td>\n",
              "      <td>Alentejano</td>\n",
              "      <td>NaN</td>\n",
              "      <td>NaN</td>\n",
              "      <td>NaN</td>\n",
              "      <td>NaN</td>\n",
              "      <td>NaN</td>\n",
              "      <td>PORTUGUESE RED</td>\n",
              "      <td>J. Portugal Ramos</td>\n",
              "      <td>26.060501</td>\n",
              "      <td>22.461613</td>\n",
              "      <td>24.285346</td>\n",
              "      <td>18.969697</td>\n",
              "    </tr>\n",
              "    <tr>\n",
              "      <th>1</th>\n",
              "      <td>France</td>\n",
              "      <td>A solid, chunky wine, with a structure that is...</td>\n",
              "      <td>NaN</td>\n",
              "      <td>71079</td>\n",
              "      <td>NaN</td>\n",
              "      <td>88.041695</td>\n",
              "      <td>28.0</td>\n",
              "      <td>Bordeaux</td>\n",
              "      <td>Lalande de Pomerol</td>\n",
              "      <td>NaN</td>\n",
              "      <td>NaN</td>\n",
              "      <td>NaN</td>\n",
              "      <td>NaN</td>\n",
              "      <td>BORDEAUX-STYLE RED BLEND</td>\n",
              "      <td>Château Tour Grand Colombier</td>\n",
              "      <td>43.367316</td>\n",
              "      <td>40.651991</td>\n",
              "      <td>48.408807</td>\n",
              "      <td>28.000000</td>\n",
              "    </tr>\n",
              "    <tr>\n",
              "      <th>2</th>\n",
              "      <td>France</td>\n",
              "      <td>This is powerful and concentrated, with the hi...</td>\n",
              "      <td>NaN</td>\n",
              "      <td>32440</td>\n",
              "      <td>NaN</td>\n",
              "      <td>94.085021</td>\n",
              "      <td>130.0</td>\n",
              "      <td>Bordeaux</td>\n",
              "      <td>Saint-Émilion</td>\n",
              "      <td>NaN</td>\n",
              "      <td>NaN</td>\n",
              "      <td>NaN</td>\n",
              "      <td>NaN</td>\n",
              "      <td>BORDEAUX-STYLE RED BLEND</td>\n",
              "      <td>Château Figeac</td>\n",
              "      <td>43.367316</td>\n",
              "      <td>40.651991</td>\n",
              "      <td>48.408807</td>\n",
              "      <td>135.000000</td>\n",
              "    </tr>\n",
              "    <tr>\n",
              "      <th>3</th>\n",
              "      <td>US</td>\n",
              "      <td>Rich, ripe and oaky, this Petite Sirah charms ...</td>\n",
              "      <td>Thompson Vineyard</td>\n",
              "      <td>124405</td>\n",
              "      <td>NaN</td>\n",
              "      <td>89.869797</td>\n",
              "      <td>34.0</td>\n",
              "      <td>California</td>\n",
              "      <td>Santa Barbara County</td>\n",
              "      <td>Central Coast</td>\n",
              "      <td>NaN</td>\n",
              "      <td>NaN</td>\n",
              "      <td>Jaffurs 2010 Thompson Vineyard Petite Sirah (S...</td>\n",
              "      <td>PETITE SIRAH</td>\n",
              "      <td>Jaffurs</td>\n",
              "      <td>35.153079</td>\n",
              "      <td>37.268083</td>\n",
              "      <td>30.287336</td>\n",
              "      <td>38.294118</td>\n",
              "    </tr>\n",
              "    <tr>\n",
              "      <th>4</th>\n",
              "      <td>US</td>\n",
              "      <td>This wine is a unique in the state blend and f...</td>\n",
              "      <td>McKinley Springs Vineyard</td>\n",
              "      <td>33649</td>\n",
              "      <td>NaN</td>\n",
              "      <td>89.017651</td>\n",
              "      <td>24.0</td>\n",
              "      <td>Washington</td>\n",
              "      <td>Horse Heaven Hills</td>\n",
              "      <td>Columbia Valley</td>\n",
              "      <td>Sean P. Sullivan</td>\n",
              "      <td>@wawinereport</td>\n",
              "      <td>Syncline 2016 McKinley Springs Vineyard Rosé (...</td>\n",
              "      <td>ROSé</td>\n",
              "      <td>Syncline</td>\n",
              "      <td>35.153079</td>\n",
              "      <td>30.977910</td>\n",
              "      <td>18.263484</td>\n",
              "      <td>28.457447</td>\n",
              "    </tr>\n",
              "  </tbody>\n",
              "</table>\n",
              "</div>"
            ],
            "text/plain": [
              "    country  ... price_per_winery\n",
              "0  Portugal  ...        18.969697\n",
              "1    France  ...        28.000000\n",
              "2    France  ...       135.000000\n",
              "3        US  ...        38.294118\n",
              "4        US  ...        28.457447\n",
              "\n",
              "[5 rows x 19 columns]"
            ]
          },
          "metadata": {
            "tags": []
          },
          "execution_count": 633
        }
      ]
    },
    {
      "cell_type": "code",
      "metadata": {
        "id": "4VZjg_aSAI9h",
        "colab_type": "code",
        "colab": {}
      },
      "source": [
        "europe=['Bosnia and Herzegovina', 'Slovakia', 'Armenia', 'Lithuania', 'England', 'Cyprus', 'Macedonia', 'Serbia', 'Czech Republic', 'Ukraine', 'Luxembourg', 'Switzerland', 'Georgia', 'Moldova','Italy', 'France', 'Spain', 'Portugal', 'Austria', 'Germany', 'Greece', 'Hungary', 'Romania', 'Bulgaria', 'Slovenia', 'Turkey' , 'Croatia'  ]\n",
        "north_america=['US', 'Canada', 'Mexico']\n",
        "south_america=['Peru', 'Brazil', 'Chile', 'Argentina', 'Uruguay',  ]\n",
        "africa=['Morocco', 'South Africa']\n",
        "asia=['China', 'Japan', 'South Korea', 'Lebanon', 'India', 'Australia', 'New Zealand', 'Israel' ]\n",
        "\n",
        "co=train.country\n",
        "a50=a40=[0 for i in range(len(co))]\n",
        "a40=[0 for i in range(len(co))]\n",
        "a30=[0 for i in range(len(co))]\n",
        "a20=[0 for i in range(len(co))]\n",
        "a10=[0 for i in range(len(co))]\n",
        "for i in range(len(countries)):\n",
        "  if co[i]in europe:\n",
        "    a40[i]=1\n",
        "  if co[i]in north_america:\n",
        "    a30[i]=1\n",
        "  if co[i]in south_america:\n",
        "    a20[i]=1\n",
        "  if co[i]in africa:\n",
        "    a10[i]=1\n",
        "  if co[i]in asia:\n",
        "    a50[i]=1\n",
        "train[\"europe\"]=a40\n",
        "train[\"north_america\"]=a30\n",
        "train[\"south_america\"]=a20\n",
        "train[\"africa\"]=a10\n",
        "train[\"asia\"]=a50\n"
      ],
      "execution_count": null,
      "outputs": []
    },
    {
      "cell_type": "code",
      "metadata": {
        "id": "FT-0PWwWwpZE",
        "colab_type": "code",
        "colab": {
          "base_uri": "https://localhost:8080/",
          "height": 183
        },
        "outputId": "6957771d-22dc-474a-cc35-3b6e9eb8e4fe"
      },
      "source": [
        "countries=train.country.unique()\n",
        "countries"
      ],
      "execution_count": null,
      "outputs": [
        {
          "output_type": "execute_result",
          "data": {
            "text/plain": [
              "array(['Portugal', 'France', 'US', 'Spain', 'Italy', 'Chile', 'Argentina',\n",
              "       'Australia', 'Greece', 'Austria', 'New Zealand', 'South Africa',\n",
              "       'Slovenia', 'Germany', 'Bulgaria', 'Romania', 'Canada', 'Israel',\n",
              "       'Moldova', 'England', 'India', 'Bosnia and Herzegovina', 'Cyprus',\n",
              "       'Croatia', 'Hungary', 'Lithuania', 'Brazil', nan, 'Morocco',\n",
              "       'Mexico', 'China', 'Uruguay', 'Turkey', 'Ukraine', 'Lebanon',\n",
              "       'South Korea', 'Georgia', 'Peru', 'Japan', 'Switzerland',\n",
              "       'Macedonia', 'Luxembourg', 'Czech Republic', 'Serbia', 'Slovakia',\n",
              "       'Armenia'], dtype=object)"
            ]
          },
          "metadata": {
            "tags": []
          },
          "execution_count": 635
        }
      ]
    },
    {
      "cell_type": "code",
      "metadata": {
        "id": "TjlbMWEMkjzN",
        "colab_type": "code",
        "colab": {}
      },
      "source": [
        "mc=[]\n",
        "for i in range(len(countries)):\n",
        "  m=train[train[\"country\"]==countries[i]].price.mean()\n",
        "  mc.append(m)"
      ],
      "execution_count": null,
      "outputs": []
    },
    {
      "cell_type": "code",
      "metadata": {
        "id": "7aALG1OMov1t",
        "colab_type": "code",
        "colab": {
          "base_uri": "https://localhost:8080/",
          "height": 35
        },
        "outputId": "5b733255-a02a-4d65-dc3d-6c4933ffdf36"
      },
      "source": [
        "mc[14]"
      ],
      "execution_count": null,
      "outputs": [
        {
          "output_type": "execute_result",
          "data": {
            "text/plain": [
              "13.136986301369863"
            ]
          },
          "metadata": {
            "tags": []
          },
          "execution_count": 637
        }
      ]
    },
    {
      "cell_type": "code",
      "metadata": {
        "id": "xkhol1xjmbWg",
        "colab_type": "code",
        "colab": {}
      },
      "source": [
        "cat40=[]\n",
        "cat30=[]\n",
        "cat20=[]\n",
        "cat10=[]\n",
        "\n",
        "for i in range(len(countries)):\n",
        "  if mc[i]>40:\n",
        "    cat40.append(countries[i])\n",
        "  if mc[i]>30 and mc[i]<40:\n",
        "    cat30.append(countries[i])\n",
        "  if mc[i]>20 and mc[i]<30:\n",
        "    cat20.append(countries[i])\n",
        "  if mc[i]>10 and mc[i]<20:\n",
        "    cat10.append(countries[i])\n"
      ],
      "execution_count": null,
      "outputs": []
    },
    {
      "cell_type": "code",
      "metadata": {
        "id": "RbMCgOBZnuc3",
        "colab_type": "code",
        "colab": {
          "base_uri": "https://localhost:8080/",
          "height": 35
        },
        "outputId": "22e77421-a065-489d-ef25-b7b74921f988"
      },
      "source": [
        "cat40"
      ],
      "execution_count": null,
      "outputs": [
        {
          "output_type": "execute_result",
          "data": {
            "text/plain": [
              "['France', 'Germany', 'England', 'Hungary', 'Switzerland']"
            ]
          },
          "metadata": {
            "tags": []
          },
          "execution_count": 639
        }
      ]
    },
    {
      "cell_type": "code",
      "metadata": {
        "id": "w7qKszknoDYZ",
        "colab_type": "code",
        "colab": {}
      },
      "source": [
        "co=train.country\n",
        "a40=[0 for i in range(len(co))]\n",
        "a30=[0 for i in range(len(co))]\n",
        "a20=[0 for i in range(len(co))]\n",
        "a10=[0 for i in range(len(co))]\n",
        "for i in range(len(countries)):\n",
        "  if co[i]in cat40:\n",
        "    a40[i]=1\n",
        "  if co[i]in cat30:\n",
        "    a30[i]=1\n",
        "  if co[i]in cat20:\n",
        "    a20[i]=1\n",
        "  if co[i]in cat10:\n",
        "    a10[i]=1\n"
      ],
      "execution_count": null,
      "outputs": []
    },
    {
      "cell_type": "code",
      "metadata": {
        "id": "pfDzF1cFo9D4",
        "colab_type": "code",
        "colab": {
          "base_uri": "https://localhost:8080/",
          "height": 35
        },
        "outputId": "d78a05fd-58c0-4314-f0a3-87121f7a0cf0"
      },
      "source": [
        "len(a10)"
      ],
      "execution_count": null,
      "outputs": [
        {
          "output_type": "execute_result",
          "data": {
            "text/plain": [
              "175000"
            ]
          },
          "metadata": {
            "tags": []
          },
          "execution_count": 641
        }
      ]
    },
    {
      "cell_type": "code",
      "metadata": {
        "id": "lapbUtM4olUT",
        "colab_type": "code",
        "colab": {}
      },
      "source": [
        "train[\"a40\"]=a40\n",
        "train[\"a30\"]=a30\n",
        "train[\"a20\"]=a20\n",
        "train[\"a10\"]=a10"
      ],
      "execution_count": null,
      "outputs": []
    },
    {
      "cell_type": "code",
      "metadata": {
        "id": "TCkhjkqfzD5I",
        "colab_type": "code",
        "colab": {
          "base_uri": "https://localhost:8080/",
          "height": 35
        },
        "outputId": "17d5af36-89bc-4173-fb96-33ad00120f15"
      },
      "source": [
        "train.variety.nunique()"
      ],
      "execution_count": null,
      "outputs": [
        {
          "output_type": "execute_result",
          "data": {
            "text/plain": [
              "706"
            ]
          },
          "metadata": {
            "tags": []
          },
          "execution_count": 643
        }
      ]
    },
    {
      "cell_type": "code",
      "metadata": {
        "id": "w5F5baathj4s",
        "colab_type": "code",
        "colab": {}
      },
      "source": [
        "varieties=train.variety.unique()\n",
        "\n",
        "mc=[]\n",
        "for i in range(len(varieties)):\n",
        "  m=train[train[\"variety\"]==varieties[i]].price.mean()\n",
        "  mc.append(m)\n",
        "\n",
        "dat40=[]\n",
        "dat30=[]\n",
        "dat20=[]\n",
        "dat10=[]\n",
        "\n",
        "for i in range(len(varieties)):\n",
        "  if mc[i]>40:\n",
        "    dat40.append(varieties[i])\n",
        "  if mc[i]>30 and mc[i]<40:\n",
        "    dat30.append(varieties[i])\n",
        "  if mc[i]>20 and mc[i]<30:\n",
        "    dat20.append(varieties[i])\n",
        "  if mc[i]>10 and mc[i]<20:\n",
        "    dat10.append(varieties[i])\n",
        "\n",
        "\n",
        "co=train.variety\n",
        "a40=[0 for i in range(len(co))]\n",
        "a30=[0 for i in range(len(co))]\n",
        "a20=[0 for i in range(len(co))]\n",
        "a10=[0 for i in range(len(co))]\n",
        "for i in range(len(varieties)):\n",
        "  if co[i]in dat40:\n",
        "    a40[i]=1\n",
        "  if co[i]in dat30:\n",
        "    a30[i]=1\n",
        "  if co[i]in dat20:\n",
        "    a20[i]=1\n",
        "  if co[i]in dat10:\n",
        "    a10[i]=1\n",
        "train[\"b40\"]=a40\n",
        "train[\"b30\"]=a30\n",
        "train[\"b20\"]=a20\n",
        "train[\"b10\"]=a10"
      ],
      "execution_count": null,
      "outputs": []
    },
    {
      "cell_type": "code",
      "metadata": {
        "id": "5r5br8E4GvWE",
        "colab_type": "code",
        "colab": {
          "base_uri": "https://localhost:8080/",
          "height": 35
        },
        "outputId": "118a52c1-77f1-4ab4-d63c-ada1dddf3cb2"
      },
      "source": [
        "test.shape"
      ],
      "execution_count": null,
      "outputs": [
        {
          "output_type": "execute_result",
          "data": {
            "text/plain": [
              "(83210, 19)"
            ]
          },
          "metadata": {
            "tags": []
          },
          "execution_count": 589
        }
      ]
    },
    {
      "cell_type": "code",
      "metadata": {
        "id": "vs6hXSB99-BM",
        "colab_type": "code",
        "colab": {}
      },
      "source": [
        "wineries=train.winery.unique()\n",
        "countries\n",
        "mc=[]\n",
        "for i in range(len(wineries)):\n",
        "  m=train[train[\"winery\"]==wineries[i]].price.mean()\n",
        "  mc.append(m)\n",
        "\n",
        "cat40=[]\n",
        "cat30=[]\n",
        "cat20=[]\n",
        "cat10=[]\n",
        "\n",
        "for i in range(len(wineries)):\n",
        "  if mc[i]>40:\n",
        "    cat40.append(wineries[i])\n",
        "  if mc[i]>30 and mc[i]<40:\n",
        "    cat30.append(wineries[i])\n",
        "  if mc[i]>20 and mc[i]<30:\n",
        "    cat20.append(wineries[i])\n",
        "  if mc[i]>10 and mc[i]<20:\n",
        "    cat10.append(wineries[i])\n",
        "\n",
        "\n",
        "co=train.winery\n",
        "a40=[0 for i in range(len(co))]\n",
        "a30=[0 for i in range(len(co))]\n",
        "a20=[0 for i in range(len(co))]\n",
        "a10=[0 for i in range(len(co))]\n",
        "for i in range(len(wineries)):\n",
        "  if co[i]in cat40:\n",
        "    a40[i]=1\n",
        "  if co[i]in cat30:\n",
        "    a30[i]=1\n",
        "  if co[i]in cat20:\n",
        "    a20[i]=1\n",
        "  if co[i]in cat10:\n",
        "    a10[i]=1\n",
        "train[\"c40\"]=a40\n",
        "train[\"c30\"]=a30\n",
        "train[\"c20\"]=a20\n",
        "train[\"c10\"]=a10"
      ],
      "execution_count": null,
      "outputs": []
    },
    {
      "cell_type": "code",
      "metadata": {
        "id": "T7HFqH2J-yqa",
        "colab_type": "code",
        "colab": {}
      },
      "source": [
        "designations=train.designation.unique()\n",
        "countries\n",
        "mc=[]\n",
        "for i in range(len(designations)):\n",
        "  m=train[train[\"winery\"]==designations[i]].price.mean()\n",
        "  mc.append(m)\n",
        "\n",
        "cat40=[]\n",
        "cat30=[]\n",
        "cat20=[]\n",
        "cat10=[]\n",
        "\n",
        "for i in range(len(designations)):\n",
        "  if mc[i]>40:\n",
        "    cat40.append(designations[i])\n",
        "  if mc[i]>30 and mc[i]<40:\n",
        "    cat30.append(designations[i])\n",
        "  if mc[i]>20 and mc[i]<30:\n",
        "    cat20.append(designations[i])\n",
        "  if mc[i]>10 and mc[i]<20:\n",
        "    cat10.append(designations[i])\n",
        "\n",
        "\n",
        "co=train.designation\n",
        "a40=[0 for i in range(len(co))]\n",
        "a30=[0 for i in range(len(co))]\n",
        "a20=[0 for i in range(len(co))]\n",
        "a10=[0 for i in range(len(co))]\n",
        "for i in range(len(designations)):\n",
        "  if co[i]in cat40:\n",
        "    a40[i]=1\n",
        "  if co[i]in cat30:\n",
        "    a30[i]=1\n",
        "  if co[i]in cat20:\n",
        "    a20[i]=1\n",
        "  if co[i]in cat10:\n",
        "    a10[i]=1\n",
        "train[\"d40\"]=a40\n",
        "train[\"d30\"]=a30\n",
        "train[\"d20\"]=a20\n",
        "train[\"d10\"]=a10"
      ],
      "execution_count": null,
      "outputs": []
    },
    {
      "cell_type": "code",
      "metadata": {
        "id": "rHJnd2bCiaIV",
        "colab_type": "code",
        "colab": {
          "base_uri": "https://localhost:8080/",
          "height": 574
        },
        "outputId": "0ceab07b-7b30-4b2f-e11d-9800d02b95ca"
      },
      "source": [
        "train.head()"
      ],
      "execution_count": null,
      "outputs": [
        {
          "output_type": "execute_result",
          "data": {
            "text/html": [
              "<div>\n",
              "<style scoped>\n",
              "    .dataframe tbody tr th:only-of-type {\n",
              "        vertical-align: middle;\n",
              "    }\n",
              "\n",
              "    .dataframe tbody tr th {\n",
              "        vertical-align: top;\n",
              "    }\n",
              "\n",
              "    .dataframe thead th {\n",
              "        text-align: right;\n",
              "    }\n",
              "</style>\n",
              "<table border=\"1\" class=\"dataframe\">\n",
              "  <thead>\n",
              "    <tr style=\"text-align: right;\">\n",
              "      <th></th>\n",
              "      <th>country</th>\n",
              "      <th>description</th>\n",
              "      <th>designation</th>\n",
              "      <th>points</th>\n",
              "      <th>price</th>\n",
              "      <th>province</th>\n",
              "      <th>region_1</th>\n",
              "      <th>region_2</th>\n",
              "      <th>taster_name</th>\n",
              "      <th>taster_twitter_handle</th>\n",
              "      <th>title</th>\n",
              "      <th>variety</th>\n",
              "      <th>winery</th>\n",
              "      <th>id</th>\n",
              "      <th>a40</th>\n",
              "      <th>a30</th>\n",
              "      <th>a20</th>\n",
              "      <th>a10</th>\n",
              "      <th>b40</th>\n",
              "      <th>b30</th>\n",
              "      <th>b20</th>\n",
              "      <th>b10</th>\n",
              "      <th>c40</th>\n",
              "      <th>c30</th>\n",
              "      <th>c20</th>\n",
              "      <th>c10</th>\n",
              "    </tr>\n",
              "  </thead>\n",
              "  <tbody>\n",
              "    <tr>\n",
              "      <th>0</th>\n",
              "      <td>Portugal</td>\n",
              "      <td>This is a fine rich balanced wine. It has ripe...</td>\n",
              "      <td>Vila Santa Reserva</td>\n",
              "      <td>88.870874</td>\n",
              "      <td>20.0</td>\n",
              "      <td>Alentejano</td>\n",
              "      <td>NaN</td>\n",
              "      <td>NaN</td>\n",
              "      <td>NaN</td>\n",
              "      <td>NaN</td>\n",
              "      <td>NaN</td>\n",
              "      <td>PORTUGUESE RED</td>\n",
              "      <td>J. Portugal Ramos</td>\n",
              "      <td>32027</td>\n",
              "      <td>0</td>\n",
              "      <td>0</td>\n",
              "      <td>1</td>\n",
              "      <td>0</td>\n",
              "      <td>0</td>\n",
              "      <td>0</td>\n",
              "      <td>1</td>\n",
              "      <td>0</td>\n",
              "      <td>0</td>\n",
              "      <td>0</td>\n",
              "      <td>0</td>\n",
              "      <td>1</td>\n",
              "    </tr>\n",
              "    <tr>\n",
              "      <th>1</th>\n",
              "      <td>France</td>\n",
              "      <td>A solid, chunky wine, with a structure that is...</td>\n",
              "      <td>NaN</td>\n",
              "      <td>88.041695</td>\n",
              "      <td>28.0</td>\n",
              "      <td>Bordeaux</td>\n",
              "      <td>Lalande de Pomerol</td>\n",
              "      <td>NaN</td>\n",
              "      <td>NaN</td>\n",
              "      <td>NaN</td>\n",
              "      <td>NaN</td>\n",
              "      <td>BORDEAUX-STYLE RED BLEND</td>\n",
              "      <td>Château Tour Grand Colombier</td>\n",
              "      <td>71079</td>\n",
              "      <td>1</td>\n",
              "      <td>0</td>\n",
              "      <td>0</td>\n",
              "      <td>0</td>\n",
              "      <td>1</td>\n",
              "      <td>0</td>\n",
              "      <td>0</td>\n",
              "      <td>0</td>\n",
              "      <td>0</td>\n",
              "      <td>0</td>\n",
              "      <td>1</td>\n",
              "      <td>0</td>\n",
              "    </tr>\n",
              "    <tr>\n",
              "      <th>2</th>\n",
              "      <td>France</td>\n",
              "      <td>This is powerful and concentrated, with the hi...</td>\n",
              "      <td>NaN</td>\n",
              "      <td>94.085021</td>\n",
              "      <td>130.0</td>\n",
              "      <td>Bordeaux</td>\n",
              "      <td>Saint-Émilion</td>\n",
              "      <td>NaN</td>\n",
              "      <td>NaN</td>\n",
              "      <td>NaN</td>\n",
              "      <td>NaN</td>\n",
              "      <td>BORDEAUX-STYLE RED BLEND</td>\n",
              "      <td>Château Figeac</td>\n",
              "      <td>32440</td>\n",
              "      <td>1</td>\n",
              "      <td>0</td>\n",
              "      <td>0</td>\n",
              "      <td>0</td>\n",
              "      <td>1</td>\n",
              "      <td>0</td>\n",
              "      <td>0</td>\n",
              "      <td>0</td>\n",
              "      <td>1</td>\n",
              "      <td>0</td>\n",
              "      <td>0</td>\n",
              "      <td>0</td>\n",
              "    </tr>\n",
              "    <tr>\n",
              "      <th>3</th>\n",
              "      <td>US</td>\n",
              "      <td>Rich, ripe and oaky, this Petite Sirah charms ...</td>\n",
              "      <td>Thompson Vineyard</td>\n",
              "      <td>89.869797</td>\n",
              "      <td>34.0</td>\n",
              "      <td>California</td>\n",
              "      <td>Santa Barbara County</td>\n",
              "      <td>Central Coast</td>\n",
              "      <td>NaN</td>\n",
              "      <td>NaN</td>\n",
              "      <td>Jaffurs 2010 Thompson Vineyard Petite Sirah (S...</td>\n",
              "      <td>PETITE SIRAH</td>\n",
              "      <td>Jaffurs</td>\n",
              "      <td>124405</td>\n",
              "      <td>0</td>\n",
              "      <td>1</td>\n",
              "      <td>0</td>\n",
              "      <td>0</td>\n",
              "      <td>0</td>\n",
              "      <td>1</td>\n",
              "      <td>0</td>\n",
              "      <td>0</td>\n",
              "      <td>0</td>\n",
              "      <td>1</td>\n",
              "      <td>0</td>\n",
              "      <td>0</td>\n",
              "    </tr>\n",
              "    <tr>\n",
              "      <th>4</th>\n",
              "      <td>US</td>\n",
              "      <td>This wine is a unique in the state blend and f...</td>\n",
              "      <td>McKinley Springs Vineyard</td>\n",
              "      <td>89.017651</td>\n",
              "      <td>24.0</td>\n",
              "      <td>Washington</td>\n",
              "      <td>Horse Heaven Hills</td>\n",
              "      <td>Columbia Valley</td>\n",
              "      <td>Sean P. Sullivan</td>\n",
              "      <td>@wawinereport</td>\n",
              "      <td>Syncline 2016 McKinley Springs Vineyard Rosé (...</td>\n",
              "      <td>ROSé</td>\n",
              "      <td>Syncline</td>\n",
              "      <td>33649</td>\n",
              "      <td>0</td>\n",
              "      <td>1</td>\n",
              "      <td>0</td>\n",
              "      <td>0</td>\n",
              "      <td>0</td>\n",
              "      <td>0</td>\n",
              "      <td>0</td>\n",
              "      <td>1</td>\n",
              "      <td>0</td>\n",
              "      <td>0</td>\n",
              "      <td>1</td>\n",
              "      <td>0</td>\n",
              "    </tr>\n",
              "  </tbody>\n",
              "</table>\n",
              "</div>"
            ],
            "text/plain": [
              "    country                                        description  ... c20  c10\n",
              "0  Portugal  This is a fine rich balanced wine. It has ripe...  ...   0    1\n",
              "1    France  A solid, chunky wine, with a structure that is...  ...   1    0\n",
              "2    France  This is powerful and concentrated, with the hi...  ...   0    0\n",
              "3        US  Rich, ripe and oaky, this Petite Sirah charms ...  ...   0    0\n",
              "4        US  This wine is a unique in the state blend and f...  ...   1    0\n",
              "\n",
              "[5 rows x 26 columns]"
            ]
          },
          "metadata": {
            "tags": []
          },
          "execution_count": 375
        }
      ]
    },
    {
      "cell_type": "code",
      "metadata": {
        "id": "6AgGjEuPgYE8",
        "colab_type": "code",
        "colab": {}
      },
      "source": [
        "sns.boxplot(y='price', x='southern_europe', data=train)"
      ],
      "execution_count": null,
      "outputs": []
    },
    {
      "cell_type": "code",
      "metadata": {
        "id": "RMK41ghFnin-",
        "colab_type": "code",
        "colab": {}
      },
      "source": [
        "missing_percentage=(train.isna().sum()/len(train)).sort_values(ascending=False)\n",
        "missing_percentage"
      ],
      "execution_count": null,
      "outputs": []
    },
    {
      "cell_type": "code",
      "metadata": {
        "id": "joGyg2-NwfI5",
        "colab_type": "code",
        "colab": {}
      },
      "source": [
        "trainid=train.id\n",
        "train=train.drop([\"id\",\"title\",\"region_2\",\"taster_twitter_handle\"],axis=1)\n"
      ],
      "execution_count": null,
      "outputs": []
    },
    {
      "cell_type": "code",
      "metadata": {
        "id": "YH8Kz73excZE",
        "colab_type": "code",
        "colab": {}
      },
      "source": [
        "train=train.drop(\"taster_name\",axis=1)"
      ],
      "execution_count": null,
      "outputs": []
    },
    {
      "cell_type": "code",
      "metadata": {
        "id": "uSKLcS2z0L2f",
        "colab_type": "code",
        "colab": {}
      },
      "source": [
        "#train[[\"country\",\"description\",\"designation\",\"province\",\"region_1\",\"region_2\",\"taster_name\",\"title\",\"variety\",\"winery\"]]=train[[\"country\",\"description\",\"designation\",\"province\",\"region_1\",\"variety\",\"winery\"]].astype(str)\n",
        "train[\"description\"]=train[\"description\"].astype(str)"
      ],
      "execution_count": null,
      "outputs": []
    },
    {
      "cell_type": "code",
      "metadata": {
        "id": "9nK09DV_0iAG",
        "colab_type": "code",
        "colab": {}
      },
      "source": [
        ""
      ],
      "execution_count": null,
      "outputs": []
    },
    {
      "cell_type": "code",
      "metadata": {
        "id": "HcQdlfoTwuzs",
        "colab_type": "code",
        "colab": {}
      },
      "source": [
        "train.country=train.country.dropna()\n",
        "train.province=train.province.dropna()\n",
        "train.variety=train.variety.dropna()"
      ],
      "execution_count": null,
      "outputs": []
    },
    {
      "cell_type": "code",
      "metadata": {
        "id": "-6bK7YpltNmz",
        "colab_type": "code",
        "colab": {
          "base_uri": "https://localhost:8080/",
          "height": 239
        },
        "outputId": "354d7e57-b547-4427-c239-fc49172cbed9"
      },
      "source": [
        "train.region_1.value_counts()"
      ],
      "execution_count": null,
      "outputs": [
        {
          "output_type": "execute_result",
          "data": {
            "text/plain": [
              "Napa Valley                              7213\n",
              "Columbia Valley (WA)                     6196\n",
              "Russian River Valley                     4481\n",
              "California                               4183\n",
              "Mendoza                                  3975\n",
              "                                         ... \n",
              "Saint-Chinian-Roquebrun                     1\n",
              "Recioto della Valpolicella Valpantena       1\n",
              "Texoma                                      1\n",
              "Côtes du Roussillon Villages Caramany       1\n",
              "Côtes de Frontonnais                        1\n",
              "Name: region_1, Length: 1278, dtype: int64"
            ]
          },
          "metadata": {
            "tags": []
          },
          "execution_count": 246
        }
      ]
    },
    {
      "cell_type": "code",
      "metadata": {
        "id": "y6dCiOS5uWdg",
        "colab_type": "code",
        "colab": {
          "base_uri": "https://localhost:8080/",
          "height": 614
        },
        "outputId": "c843d257-ba8b-4b1e-a373-c5321842c4be"
      },
      "source": [
        "corr_mat=train.corr(method='pearson')\n",
        "plt.figure(figsize=(20,10))\n",
        "sns.heatmap(corr_mat,vmax=1,square=True,annot=True,cmap='cubehelix')"
      ],
      "execution_count": null,
      "outputs": [
        {
          "output_type": "execute_result",
          "data": {
            "text/plain": [
              "<matplotlib.axes._subplots.AxesSubplot at 0x7f50ae6492b0>"
            ]
          },
          "metadata": {
            "tags": []
          },
          "execution_count": 247
        },
        {
          "output_type": "display_data",
          "data": {
            "image/png": "[encoded data removed]",
            "text/plain": [
              "<Figure size 1440x720 with 2 Axes>"
            ]
          },
          "metadata": {
            "tags": []
          }
        }
      ]
    },
    {
      "cell_type": "code",
      "metadata": {
        "id": "c-AS6VprvXrQ",
        "colab_type": "code",
        "colab": {
          "base_uri": "https://localhost:8080/",
          "height": 283
        },
        "outputId": "95fbe7e0-6546-4c72-9664-d1a159a44232"
      },
      "source": [
        "train.points.plot(kind=\"hist\")"
      ],
      "execution_count": null,
      "outputs": [
        {
          "output_type": "execute_result",
          "data": {
            "text/plain": [
              "<matplotlib.axes._subplots.AxesSubplot at 0x7f508c3e60f0>"
            ]
          },
          "metadata": {
            "tags": []
          },
          "execution_count": 248
        },
        {
          "output_type": "display_data",
          "data": {
            "image/png": "[encoded data removed]",
            "text/plain": [
              "<Figure size 432x288 with 1 Axes>"
            ]
          },
          "metadata": {
            "tags": []
          }
        }
      ]
    },
    {
      "cell_type": "code",
      "metadata": {
        "id": "o4GUKLSpynH2",
        "colab_type": "code",
        "colab": {
          "base_uri": "https://localhost:8080/",
          "height": 283
        },
        "outputId": "7b25387c-aed9-46d7-fa39-c6b6e1a25fb8"
      },
      "source": [
        "x=np.log1p(train.price)\n",
        "x.plot(kind='hist',bins=10,grid=True)\n"
      ],
      "execution_count": null,
      "outputs": [
        {
          "output_type": "execute_result",
          "data": {
            "text/plain": [
              "<matplotlib.axes._subplots.AxesSubplot at 0x7f508cb31e48>"
            ]
          },
          "metadata": {
            "tags": []
          },
          "execution_count": 249
        },
        {
          "output_type": "display_data",
          "data": {
            "image/png": "[encoded data removed]",
            "text/plain": [
              "<Figure size 432x288 with 1 Axes>"
            ]
          },
          "metadata": {
            "tags": []
          }
        }
      ]
    },
    {
      "cell_type": "code",
      "metadata": {
        "id": "xjYQ4PXBx1pr",
        "colab_type": "code",
        "colab": {}
      },
      "source": [
        "train.price=np.log1p(train.price)"
      ],
      "execution_count": null,
      "outputs": []
    },
    {
      "cell_type": "code",
      "metadata": {
        "id": "yM9mkZ9cBbpY",
        "colab_type": "code",
        "colab": {
          "base_uri": "https://localhost:8080/",
          "height": 128
        },
        "outputId": "cbe3e50d-969d-4da2-a383-61b04743b823"
      },
      "source": [
        "train.price.head()"
      ],
      "execution_count": null,
      "outputs": [
        {
          "output_type": "execute_result",
          "data": {
            "text/plain": [
              "0     20.0\n",
              "1     28.0\n",
              "2    130.0\n",
              "3     34.0\n",
              "4     24.0\n",
              "Name: price, dtype: float64"
            ]
          },
          "metadata": {
            "tags": []
          },
          "execution_count": 376
        }
      ]
    },
    {
      "cell_type": "markdown",
      "metadata": {
        "id": "EWvxcKEUyoAA",
        "colab_type": "text"
      },
      "source": [
        "# **Text Mining on Description**"
      ]
    },
    {
      "cell_type": "code",
      "metadata": {
        "id": "2PZFi_Ts4xCq",
        "colab_type": "code",
        "colab": {}
      },
      "source": [
        "import nltk"
      ],
      "execution_count": null,
      "outputs": []
    },
    {
      "cell_type": "code",
      "metadata": {
        "id": "Uc6xe9oe40_z",
        "colab_type": "code",
        "colab": {
          "base_uri": "https://localhost:8080/",
          "height": 72
        },
        "outputId": "b1695201-de2e-4a0c-d994-8e1007e6d900"
      },
      "source": [
        "nltk.download('punkt')\n"
      ],
      "execution_count": null,
      "outputs": [
        {
          "output_type": "stream",
          "text": [
            "[nltk_data] Downloading package punkt to /root/nltk_data...\n",
            "[nltk_data]   Unzipping tokenizers/punkt.zip.\n"
          ],
          "name": "stdout"
        },
        {
          "output_type": "execute_result",
          "data": {
            "text/plain": [
              "True"
            ]
          },
          "metadata": {
            "tags": []
          },
          "execution_count": 17
        }
      ]
    },
    {
      "cell_type": "code",
      "metadata": {
        "id": "xsP0ft_V5ozg",
        "colab_type": "code",
        "colab": {
          "base_uri": "https://localhost:8080/",
          "height": 72
        },
        "outputId": "3f2b7e3d-2922-4e59-883d-8c11513d9319"
      },
      "source": [
        "nltk.download('stopwords')"
      ],
      "execution_count": null,
      "outputs": [
        {
          "output_type": "stream",
          "text": [
            "[nltk_data] Downloading package stopwords to /root/nltk_data...\n",
            "[nltk_data]   Unzipping corpora/stopwords.zip.\n"
          ],
          "name": "stdout"
        },
        {
          "output_type": "execute_result",
          "data": {
            "text/plain": [
              "True"
            ]
          },
          "metadata": {
            "tags": []
          },
          "execution_count": 18
        }
      ]
    },
    {
      "cell_type": "code",
      "metadata": {
        "id": "n6f2zSgUy-ON",
        "colab_type": "code",
        "colab": {
          "base_uri": "https://localhost:8080/",
          "height": 35
        },
        "outputId": "d7fbf890-90c1-4f0c-eac2-5a5edfeffd1f"
      },
      "source": [
        "des=train.description\n",
        "type(des[0])"
      ],
      "execution_count": null,
      "outputs": [
        {
          "output_type": "execute_result",
          "data": {
            "text/plain": [
              "str"
            ]
          },
          "metadata": {
            "tags": []
          },
          "execution_count": 19
        }
      ]
    },
    {
      "cell_type": "code",
      "metadata": {
        "id": "u-lC4JWU30XG",
        "colab_type": "code",
        "colab": {
          "base_uri": "https://localhost:8080/",
          "height": 35
        },
        "outputId": "91448a72-ddfa-400d-9f62-1be3595235d0"
      },
      "source": [
        "len(des)"
      ],
      "execution_count": null,
      "outputs": [
        {
          "output_type": "execute_result",
          "data": {
            "text/plain": [
              "175000"
            ]
          },
          "metadata": {
            "tags": []
          },
          "execution_count": 20
        }
      ]
    },
    {
      "cell_type": "code",
      "metadata": {
        "id": "MOX0MA-EzAjt",
        "colab_type": "code",
        "colab": {
          "base_uri": "https://localhost:8080/",
          "height": 128
        },
        "outputId": "f142baeb-6cf6-489b-bf5d-a88c40a92bbd"
      },
      "source": [
        "des.head()"
      ],
      "execution_count": null,
      "outputs": [
        {
          "output_type": "execute_result",
          "data": {
            "text/plain": [
              "0    This is a fine rich balanced wine. It has ripe...\n",
              "1    A solid, chunky wine, with a structure that is...\n",
              "2    This is powerful and concentrated, with the hi...\n",
              "3    Rich, ripe and oaky, this Petite Sirah charms ...\n",
              "4    This wine is a unique in the state blend and f...\n",
              "Name: description, dtype: object"
            ]
          },
          "metadata": {
            "tags": []
          },
          "execution_count": 21
        }
      ]
    },
    {
      "cell_type": "code",
      "metadata": {
        "id": "X_gvbCCE1eb_",
        "colab_type": "code",
        "colab": {
          "base_uri": "https://localhost:8080/",
          "height": 55
        },
        "outputId": "0c8d75f2-b096-4e91-d77f-cec1a8b9f136"
      },
      "source": [
        "from nltk.tokenize import  word_tokenize \n",
        "\n",
        "list_text = [des[i] for i in range(len(des))]\n",
        "print(list_text[:10])\n"
      ],
      "execution_count": null,
      "outputs": [
        {
          "output_type": "stream",
          "text": [
            "[\"This is a fine rich balanced wine. It has ripe fruits that suggest black currants, blackberries and a tight, stalky, mineral element. At the same time, it's generous, full of juicy acidity to contrast with the dusty tannin layer that keeps it all together. Drink now.\", 'A solid, chunky wine, with a structure that is full of corners and edges. The tannins are in a dusty, chewy style, balancing with the fresh black fig and sweet plum juice flavors. Rich and concentrated, the wine needs to age.', 'This is powerful and concentrated, with the high proportion of Cabernet Sauvignon in the blend standing out firmly. It is dark, rich, packed with ripe black fruits and sweet tannins. Drink from 2018.', 'Rich, ripe and oaky, this Petite Sirah charms with flashy blackberry, cherry and dark chocolate flavors that are opulent through the long finish. The vineyard is in the Los Alamos region.', \"This wine is a unique in the state blend and features Cinsault (35%), Grenache (35%) and Mourvèdre. Pale peach in color with a slight bronze tinge, the aromas are light, with notes of strawberry, citrus zest and mineral. The flavors are dry, sleek and high acid. It's a perfect summer wine.\", 'This brut nature is citric and bubbly on the palate after opening with aromas of weeds and spring onion. Flavors of lemon, herbs, onion and mustard coalesce in front of a bitter finish.', 'A ripe wine that has red-berry fruits, slices of black plum and a full deck of tannins. It is concentrated and ripe, full of fruit and equally full of structure. Let the two soften and drink from 2018.', \"From one of Sicily's most beautiful and promising vineyards, Baccante is a blend of Grillo and Chardonnay with bright clean acidity and fragrant yellow fruit. The only setback here is a matchstick aroma (not present in past years) that prevents this vintage from scoring higher.\", 'This wine plays close to the edge of overripe-ness, becoming baked and syrupy-rich in cranberry sauce and clove. Nutmeg spice help pique the palate before the high-octane finish.', \"This basic Prosecco is perfectly quaffable thanks to its simple, straightforward delivery. There's a touch of almond or caramel behind the apricot and melon. Drink now, the wine doesn't have long to go.\"]\n"
          ],
          "name": "stdout"
        }
      ]
    },
    {
      "cell_type": "code",
      "metadata": {
        "id": "6gxHujUS4W8R",
        "colab_type": "code",
        "colab": {
          "base_uri": "https://localhost:8080/",
          "height": 55
        },
        "outputId": "b8f8cb96-69f4-446b-cf3f-d8dd8bab059b"
      },
      "source": [
        "print(list_text[:100])"
      ],
      "execution_count": null,
      "outputs": [
        {
          "output_type": "stream",
          "text": [
            "[\"This is a fine rich balanced wine. It has ripe fruits that suggest black currants, blackberries and a tight, stalky, mineral element. At the same time, it's generous, full of juicy acidity to contrast with the dusty tannin layer that keeps it all together. Drink now.\", 'A solid, chunky wine, with a structure that is full of corners and edges. The tannins are in a dusty, chewy style, balancing with the fresh black fig and sweet plum juice flavors. Rich and concentrated, the wine needs to age.', 'This is powerful and concentrated, with the high proportion of Cabernet Sauvignon in the blend standing out firmly. It is dark, rich, packed with ripe black fruits and sweet tannins. Drink from 2018.', 'Rich, ripe and oaky, this Petite Sirah charms with flashy blackberry, cherry and dark chocolate flavors that are opulent through the long finish. The vineyard is in the Los Alamos region.', \"This wine is a unique in the state blend and features Cinsault (35%), Grenache (35%) and Mourvèdre. Pale peach in color with a slight bronze tinge, the aromas are light, with notes of strawberry, citrus zest and mineral. The flavors are dry, sleek and high acid. It's a perfect summer wine.\", 'This brut nature is citric and bubbly on the palate after opening with aromas of weeds and spring onion. Flavors of lemon, herbs, onion and mustard coalesce in front of a bitter finish.', 'A ripe wine that has red-berry fruits, slices of black plum and a full deck of tannins. It is concentrated and ripe, full of fruit and equally full of structure. Let the two soften and drink from 2018.', \"From one of Sicily's most beautiful and promising vineyards, Baccante is a blend of Grillo and Chardonnay with bright clean acidity and fragrant yellow fruit. The only setback here is a matchstick aroma (not present in past years) that prevents this vintage from scoring higher.\", 'This wine plays close to the edge of overripe-ness, becoming baked and syrupy-rich in cranberry sauce and clove. Nutmeg spice help pique the palate before the high-octane finish.', \"This basic Prosecco is perfectly quaffable thanks to its simple, straightforward delivery. There's a touch of almond or caramel behind the apricot and melon. Drink now, the wine doesn't have long to go.\", 'A lovely Côtes-du-Rhône lookalike, this blend of young-vine Syrah and Grenache with old-vine Carignan and Cinsault features plenty of spice to go with ample fruit. Dried cinnamon, clove and a hint of cracked pepper accent black cherry flavors, while a slightly herbal note adds complexity and fine-grained tannins give structure.', 'Sort of sweet on the bouquet, with hints of lemon-lime and candy. Natural tasting, and veering toward tropical. Moderate girth in terms of body, with a finish accented by toast and vanilla. Imported by Vias Imports.', \"A big, rich style of Sancerre, but one that doesn't forget its mineral, flinty roots. The acidity has an edge of sweetness, opened by delicious berry fruit flavors, tangy in its citrus freshness. It could age for another 1–2 years.\", 'Bone-dry and not quite ripe, with a stubbornly vegetal undertow. That accentuates the tannins, making them astringent. You will find very modest cherry and cola flavors.', 'Vigorous bubbles present a Pinot Noir-like nose of crushed rocks, Indian spice and sour earth on one of the best Central Coast sparklers of the vintage. The intriguing flavors center on pluot and nectarine flesh, with fringes of salinity, lemon juice, cardamom and even dashes of curry.', \"Dark and fiery, with grapy, heavily extracted aromas. Compared to the winery's Premium Cabernet, this is harder and more choppy, with staggering tannins and heat on the finish. It's a monster with teeth, and only time will tell if it finds a friendlier place. Hold for a couple of years.\", \"This everyday Viura opens with yeasty aromas of green fruits and chewing gum. It's crisp on the palate, with a medium-weight body. Flavors of apple, citrus, peach pit and white pepper finish fresh.\", 'Opaque in color, with herbal aromas that include graphite, tobacco, sweaty leather and mocha along with floral berry fruits. The acidity is high due to coastal origins, so the blackberry flavors run tangy, with herbal leanings. Streaky, sharp acidity is the only sticking point.', \"Subtle aromas include fresh hay, exotic fruit and apples. The linear palate isn't very expressive but it reveals raw yellow peach, pineapple, light oak and a hint of mineral teamed with racy acidity.\", \"The delicate nose on this reserve Chard offers citrus and flowers with a touch of nutty spice. On the palate, it's a straightforward white with elements of lemon citrus, grapefruit and hazelnut. An easy-drinking Chardonnay with class.\", \"This wine's blackberry aromas and flavors are certainly intense enough, but they turn overly tart and crisp on the finish, limiting its appeal.\", 'Lemon and lime aromas are followed by citrus, pineapple and a spin of white pepper in this balanced, refreshing Santorini white. Delicate but full of personality.', 'Even in a less-than-ripe vintage such as this, the Leland stands out in the Erath lineup. Tight and herbal, this has an array of Pinot-specific fruits that are of medium concentration. Its balanced use of barrel aging brings a chocolate flavor to the finish.', \"This is a wine that relishes its dark color, its deep pigment. It's just as dense on the palate with concentrated black fruits and an earthy edge. There's no wood here, just ripe blackberry fruitiness that will age for a year before being ready to drink. Drink from 2017.\", \"Not a whole lot of oomph in this dry, unidimensional Merlot. It's properly structured, with fine acids and tannins, but the cherry and currant fruit is diluted.\", 'Soft and ripe, a flavor of crushed strawberries leads this wine in a fruity direction. It has notes of vanilla and spice, with attractive balancing acidity. This is a food-friendly rosé.', 'Unusual aromas of jam, figs and curry lead to a spicy, grapey—though slightly acidic—palate. Finishes short, with too much tannin for the fruit.', \"This is dry and velvety in texture, with rich, complex flavors of cherries, licorice, bacon, Dr. Pepper and savory, peppery spices. A touch of oak adds a sweet smokiness. Almost as light as a Pinot Noir, it's a very pretty, polished Syrah to drink now.\", \"Here's a Barbera d'Alba that is almost too much of a good thing. The wine is black and dense with inky concentration and thick aromas of smoked bacon, beef jerky and black fruit. You'll also recognize tones of moist earth and wild mushroom. The fruit seems on the ripe and jammy side and the wine is smooth and thick in the mouth.\", \"This distinctive wine shows aromas of rain-soaked herbs, mineral, cocoa and red fruit. It's filled with luscious, jammy raspberry flavors that combine with an alluring, silky feel. With time, the aromas and flavors might unite to kick it up a notch.\", 'This slowly reveals aromas of pressed rose, star anise, ripe berry and a menthol note. On the firm, straightforward palate, hints of licorice and clove add interest to dried black cherry. Give the bracing tannins a few more years to unclench and then drink up to capture the remaining fruit.', 'This is a herbal, earthy wine with as many tannins as fruit at this stage. That gives it a dense, dusty texture that seeps into the ripe, sweet plum flavors. With the wood giving an extra push of richness as well as spice, it needs to age. Drink from 2017.', 'Integrating the buttered toast and caramel notes of new oak with the underlying wine, this is is a Chardonnay of classy California dimensions. Despite a cool vintage, the grapes achieved remarkable ripeness, with flavors suggesting oranges and spicy, creamy papayas, while bright acidity gives it all a wakeup call of zest.', \"A troubled Pinot Noir. The mouthfeel is all wrong, lacking Pinot's sensuality, but marked by harshness. And the raspberry and cherry flavors have a green, minty edge. Not likely to age, so if you drink it now, give it a good long decant.\", 'This is a pretty good buy for a Merlot that shows lots of polish and sophistication. It has savory black cherry, currant, cola and spice flavors. The tannins are a little rugged and green, so it loses some points.', 'Smells like toast and plush plums. The palate has a cool-vintage tanginess offsetting, perhaps overshadowing, its berry fruit. Dry; finishes with tangy oak. Imported by Wilson Daniels Ltd.', 'Crisper and a bit leaner than the Paso Robles offerings from J. Lohr, this is a flawlessly made Napa Cab, offering up plenty of smoke- and cedar-accented cassis fruit. With its structure and balance, it should drink well for up to 10 years.', 'This rich, powerful and juicy wine is just bursting out of its wood aging bounds. It has opulent red-berry flavors, a core of firm tannins and intense acidity. Ripe and fruity, this is full of aging potential.', 'The Sandgrube vineyard is one of the larger vineyards in the Krems area, well exposed to the Danube river. This Grüner is soft, finely formed, with a youthful texture that gives a mineral tang. Keep this wine for a year. Screwcap.', 'Mellow inviting aromas of baked apple make for an attractive nose. The palate adds tart lemon freshness to these lovely and rounded apple flavors and thus creates a lovely contrast. This is dry and fruit driven, lemony and sleek.', \"Io has a really good track record with this Syrah, which is grown in Paso Robles. The '06 is intricately structured, a dry wine with complex flavors of blackberries, currants, dates, mocha, leather, grilled meat, pepper and vanilla. Hard to resist drinking it now, but it should evolve in interesting ways over the next six years.\", \"Alleanza is a winemaking venture between Giancarlo Roman and Napa's Ed Sbragia (formerly of Beringer). Their combined efforts have produced a rich, modern wine bursting with cherry, blackberry, plum, oak, vanilla and exotic spice.\", \"The clean, brisk mouthfeel gives this slightly oaked Sauvignon Blanc instant likeability. It's dry with a rich streak of honey that sweetens the citrus, pear and tropical fruit flavors. Pair this with Asian fare, ham or a green salad with grapefruit sections.\", \"Just the second Cabernet Franc since 2003, this is a wonderful wine. It has the power and concentration of the other Spring Valley wines, but with a bit more restraint. Sweetly fruity, with jammy notes of cherry compote and cassis, it's backed with chocolaty tannins and an overriding sense of muscular power.\", \"This medium-bodied Merlot wafts fragrantly of sweet, cooked black fruits. On the palate as well, the fruit profile is a bit the pruney side. It's a softer expression of Merlot without a lot of acidity or depth, but sturdy tannins keep things in balance.\", 'Young and savory, this cool-climate Cabernet mixes tart berry fruit with herbal (tarragon) highlights. Ageworthy, tight and clean, with darker notes of black olive and loam.', 'Light straw in color, with fine bubbles and pure, fine aromas of peach and strawberry. In the mouth, it’s exceptionally rich and creamy. It’s not quite as sweet as an extra dry Champagne, but it’s definitely heading in that direction.', 'Refreshing, lively, this Pinot Gris starts with aromas of grapefruit and lemon and leads into zesty flavors of white pepper, lemon and grapefruit. A touch acidic, the wine could use more fruit balance, but overall an enjoyable dry white choice.', 'This wine bears the blue label, and includes 20% Sauvignon Blanc in the blend. The grapes were co-fermented and aged in oak. The wine is grassy, woody and herbal, with tart acidity. Unusual, but perhaps it would have been better if left entirely in stainless.', \"A rich Sauvignon Blanc, with powerful, complex flavors of Meyer lemons, limes, lemongrass, tart green apples and white peaches. It's very dry and crisp in acidity. Shows an extra level of textural complexity that raises the score.\", 'Grapey and inky on the nose, this feels saturated and a bit hot on the palate, with a candied blueberry flavor leading to a grapey finish. Tasted twice, months apart, with similar findings; this score reflects both tastings.', 'Fruity and bursting with ripe red berries, this young Chianti offers freshness and simplicity. It tastes tart and firm on the tongue and imparts easy flavors of cherry, almond and spice.', 'Intriguing due to its aromatic complexity, this wine offers up caramel, honey, citrus and brown sugar notes that slide into a crisp palate that has sweet flavors but little residual sugar. Medium, pear-accented finish. Drink now.', 'Merlot is the principal grape here, with Cabernet Sauvignon and Petit Verdot filling out the blend. This is an elegant, sculpted wine, built upon a sturdy foundation of supple, ripe Columbia Valley fruit. Raspberry and cherry flavors get a spicy lift from the Petit Verdot, while the Cabernet adds focus and heft to the tannins.', 'Darkly concentrated, boldly aromatic and intense, this pretty Brunello delivers modern aromas of chocolate, espresso bean, ripe fruit, blackberry and rum cake. The mouthfeel is smooth and rich, and the wine maintains its momentum thanks to the softness of its texture.', 'This is deeply saturated, lush, scented with violets, raisins and chocolate, still tight and spicy. Excellent depth and structure, with about one quarter of the oak new. It needs some breathing time, and as it opens it shows more Rhône-like flavors of blood and shrubby herb.', 'A bit light compared to the 2005 offerings, but supple and round, with flavors of cherries, rhubarb and some leafy, herbal complexity. Drink now.', \"Expensive, yes, but a very fine wine, showcasing what Napa Cab can do at a world-class level. But you want to cellar it, because it's all primary fruit, unintegrated oak and tannins now. Beyond the sweet cedar application you'll find deep, noble flavors of black currants and minerals, wrapped into the finest tannins imaginable. Hold until 2013,at least, and should provide good drinking for many years.\", 'A bit awkward now, tightly wound and brittle, with very ripe cherry and currant flavors as well as complex Asian spices. Bone dry and marked by acidity, it could be a sleeper. Needs at least through 2009 to wake up.', 'Lavender honey and lanolin notes are warm and enticing in this semisweet Riesling from Lamoreaux Landing. A tad sugary on the attack, it gains balance on the midpalate thanks to delicate green floral tones and ample notes of bitter lemon pith.', 'Nicely balanced, focused and hearty, this offers a wide spectrum of ripe fruit and dark spice aromas. The finish is soft and supple, with a tangy note of barbecue smoke that leaves a lasting impression.', 'Plum cake, leather, cocoa, eucalyptus, and exotic spice slowly take shape. The firm palate offers dried black currant, raisin, leather, licorice, mocha and sage alongside tightly knit, close-grained tannins.', 'Sharp and tannic, this wine hides its thin fruit behind gluey flavors of tobacco and licorice.', 'Dark chocolate and rich plum sauce add complexity to this black fruit-driven Merlot. Blackberry preserves and soft plum guts fill the mouth, with a touch of green pepper appearing on the finish. Medium weight with a creamy texture and a medium-length finish. Drink now.', 'Perfumed with violets and smoky wood, this rich wine moves away from structured Touriga Nacional to a more opulent interpretation. It is hugely rich, with a major spice and herbal character. Without apparent acidity, it is not for aging.', \"There's a delicate lemon scent, leading into a mix of citrus, grapefruit peel and honeysuckle. The wine gains weight in the mouth, showing ripe fruit (yellow apples) and a soft, lightly oxidized finish with toasted coconut and cracker. Quite delicious, distinctive and rich.\", 'Hints of bay leaf and wild thyme provide complexity and lift to this dark-fruited, full-bodied wine. Black cherry, cola and mocha notes carry the midpalate, then finish with a velvety texture. Drink now–2018.', 'Very soft wine, with honeyed apples and light acidity. The wine is already showing signs of maturity, with an opulent texture and only a hint of perfumed acidity.', 'A lively nose of citrus and toast starts this elegant wine from Cluver. Ripe fruit, toasted oak and a hint of spice add to the complexity. A bigger style Chardonnay that will pair with richer dishes like lobster and cream sauce.', 'Herb tea and white flower aromas give this wine a fine start. The Chardonnay flavors are all there: a touch of vanilla, some almonds, and pears. Fresh and  rich. Could age for a couple of years. Multiple U.S. importers.', 'Produced from old Malbec vines in the second terrace above the River Lot, the wine is darkly concentrated, with solid tannins and generous black fruits. Aging for 12 months has smoothed the square corners to create a wine that is hugely rich and rounded. It has the potential to age and become more opulent. Drink from 2020.', \"Cola and soft red raspberry scents show on the nose of this blend of 58% Grenache, 25% Mourvèdre, 17% Syrah. It's easy-drinking and simple, with red fruit, white pepper and asphalt hints. A great, light, quaffable red for a warm day.\", 'Black plum, boysenberry and fig flavors fill this soft and generous wine. It has a medium-red color, medium body and very fruity aromas. A relaxed, broad texture makes it easy to drink.', 'Full and ripe, certainly as befits Meursault from a great year, but this wine also has deliciously crisp acidity which adds an element of minerality, of poise, to the smooth toast and cream texture. An enticing, structured wine.', 'This 70-30 blend of Chardonnay and Trebbiano is driven by a strong mineral vein that imparts dusty notes of slate, vitamin and granite over fuller aromas of exotic fruit and peach. The wine is simple and tart in the mouth with a creamy, soft feel overall.', 'Spiced black-fruit aromas come etched with saddle leather and cigar box tones. Almost full in body, this Petite Sirah possess furry mouth-coating tannins and relaxed acids. The finish is earthy, showing a tinge of minerality.', 'Aromas of white flowers and mild tropical fruits turn more gritty with time. In the mouth, this Viura is dilute but not empty. Flavors of Bartlett pear, lime and nectarine finish tangy and lean.', 'This opens with aromas of raw oak and espresso. The bracing, somewhat muddled palate offers sour red cherry, coconut, dried sage and a dusting of mocha alongside a marked metallic—almost chemical—note. Raspy tannins produce a mouth drying finish.', \"This orange-style wine has aromas of grilled pineapple on the nose. It's dark straw in color and has savory flavors of caramelized apple and pineapple upside down cake.\", 'Not for everyone but not a bad sweet wine for desserts and cheeses. The nose is hard to describe but the palate and flavors are familiar: sweet applesauce and sugared pastry along with mango and candy. Decent acidity keeps it fresh and moving forward. Imported by Admiral Imports.', 'Aromatic and inviting, this pushes strawberry preserves, cola and a dash of non-carbonated seltzer into the midpalate. It spent 14 months in one-quarter new French oak, and the color along with the already maturing fruit flavors suggest drinking this now through 2020.', \"This is a terrific representation of all that is spectacularly specific about Keefer Ranch, a relatively cool site for grapes in Green Valley. Earthy and spicy in clove and nutmeg, the wine is layered in cranberry and crisp cherry. It's supple and silky on the palate, with an earthy oomph to the finish.\", \"Casal di Serra is a fantastic Italian white that should be served at every salad bar or light lunch establishment you can think of. The wine sees contact with the lees for a creamy texture and offers aromas of peach, dried hay and pear. It's easy-drinking and fresh.\", \"A lovely Cabernet for drinking now. It's soft and harmonious, with ripe, sweet flavors of blackberries, cherries and anise liqueur. An elaborate coating of oak brings a sweet, smoky deliciousness.\", 'The Oak Cask in the name is evident in the bacon, vanilla and creamy berry aromas that open things up. The palate, however, is fairly acidic, making the fruit taste bright and feel zesty. Flavors of cherry and plum are distinctly red in character, and the finish is quick and lean.', 'Pure Cabernet Sauvignon, this brings full-on dark fruits, smoke, licorice and black-tea flavors into the core palate. Despite its power, the wine has a sculpted quality, a nice sense of depth, yet with immediate appeal. The tannins are polished and fine, the acids just right to give the wine crisp edges and focus.', 'Full, rich and fruity, this is a ripe wine. It is finely poised between this richness and a more delicate, fruity character, lively and bright. Age for a few months, although you can drink the wine now.', 'A clean, acidic Chardonnay, elegant and dramatic in richness. Despite ripe pineapple, pear, mango and apricot flavors, it has a steely minerality and touch of herbs that ground it. Drink now.', \"A bit heavy and syrupy in the mouth, with white grapefruit and muted passion fruit  flavors that can't be enlivened by a slight spritz.\", 'The spicy wood aroma that shows strongly on the nose of this wine is confirmed on the palate, as it seems to have spent too much time in barrels. The fruit has been neglected and is dry. It will open up with time, although the dryness will probably remain.', \"While fresh pink grapefruit and Meyer lemon notes shine brightly on the nose and palate of this off-dry Riesling, there's a touch of savory allium that distracts. It's a juicy easygoing wine with approachably soft, sunny acidity. Drink now.\", 'Luscious dark-cherry aromas find milk chocolate and cherry-cola flavors in this medium-bodied, smooth but firm-textured wine made from Syrah and Petite Sirah grapes with a dash of Petit Verdot.', \"Superripe and oaky in pineapple, white peach purée, pear tart, buttered toast and vanilla-infused crème brûlée, this Chardonnay is saved from mere richness by crisp coastal acidity and a fine spine of minerals. Exotic and delicious, it's at its best now.\", \"The Brunate cru, with denser soils, is known for meatier, more structured wines. This Barolo offers elegance, power and complexity with lingering aromas of exotic spice, black fruit and root beer. It's also exceptionally bright and lively in the mouth and would pair with a hearty wintery dish such as beef Bourguignon.\", 'Crisp and steely, it has aromas of freshly cut grass, hay and tropical fruit. The palate delivers white grapefruit, pineapple and white peach lightly accented with aromatic herbs. Pair with pasta topped with pesto.', \"Judicious use of new oak meets gorgeous fruit flavors in this generous, warm and softly tannic wine. It's undeniably delicious, broad and satisfying in texture and almost viscous in mouthfeel. Enjoy it now through 2023.\", 'Tight, linear and compact. Clean, crisp and precise. Small berry aromas of cassis, wild berry and cherry are framed by firm, dusty tannins and a touch of toasted oak.', \"This is the most intractable of the winery's 2008 Pinot Noirs, holding back in the glass and showing plenty of grip and tannin. Tight and compact, with a distinctive black pepper scent, this wine needs more bottle age. With time, the score could certainly improve.\", 'Quarts de Chaume, producing botrytized Chenin Blanc, should be one of the glories of the Loire. This example from Château Belle Rive, is only half there. Its rich, almost toffee character is certainly super-sweet, but it misses on the acidity, which is an essential part of the character. Too velvet for its own good.', 'Comes down on the lean, hard, Chablis-like side of Chardonnay, with a steely spine of minerals and tangy acidity. This provides an elegant infrastructure to the subtle pineapple, green apple and lime zest flavors.']\n"
          ],
          "name": "stdout"
        }
      ]
    },
    {
      "cell_type": "code",
      "metadata": {
        "id": "RIgB1MQh4Iuv",
        "colab_type": "code",
        "colab": {
          "base_uri": "https://localhost:8080/",
          "height": 55
        },
        "outputId": "569b8922-3cd2-4d80-fbb9-a6c7572e234b"
      },
      "source": [
        "##################Tokenising\n",
        "word_tokens=[]\n",
        "for i in range(len(list_text)):\n",
        "    a=list_text[i]\n",
        "    l=word_tokenize(a)\n",
        "    word_tokens.append(l)\n",
        "print(word_tokens[:10])\n"
      ],
      "execution_count": null,
      "outputs": [
        {
          "output_type": "stream",
          "text": [
            "[['This', 'is', 'a', 'fine', 'rich', 'balanced', 'wine', '.', 'It', 'has', 'ripe', 'fruits', 'that', 'suggest', 'black', 'currants', ',', 'blackberries', 'and', 'a', 'tight', ',', 'stalky', ',', 'mineral', 'element', '.', 'At', 'the', 'same', 'time', ',', 'it', \"'s\", 'generous', ',', 'full', 'of', 'juicy', 'acidity', 'to', 'contrast', 'with', 'the', 'dusty', 'tannin', 'layer', 'that', 'keeps', 'it', 'all', 'together', '.', 'Drink', 'now', '.'], ['A', 'solid', ',', 'chunky', 'wine', ',', 'with', 'a', 'structure', 'that', 'is', 'full', 'of', 'corners', 'and', 'edges', '.', 'The', 'tannins', 'are', 'in', 'a', 'dusty', ',', 'chewy', 'style', ',', 'balancing', 'with', 'the', 'fresh', 'black', 'fig', 'and', 'sweet', 'plum', 'juice', 'flavors', '.', 'Rich', 'and', 'concentrated', ',', 'the', 'wine', 'needs', 'to', 'age', '.'], ['This', 'is', 'powerful', 'and', 'concentrated', ',', 'with', 'the', 'high', 'proportion', 'of', 'Cabernet', 'Sauvignon', 'in', 'the', 'blend', 'standing', 'out', 'firmly', '.', 'It', 'is', 'dark', ',', 'rich', ',', 'packed', 'with', 'ripe', 'black', 'fruits', 'and', 'sweet', 'tannins', '.', 'Drink', 'from', '2018', '.'], ['Rich', ',', 'ripe', 'and', 'oaky', ',', 'this', 'Petite', 'Sirah', 'charms', 'with', 'flashy', 'blackberry', ',', 'cherry', 'and', 'dark', 'chocolate', 'flavors', 'that', 'are', 'opulent', 'through', 'the', 'long', 'finish', '.', 'The', 'vineyard', 'is', 'in', 'the', 'Los', 'Alamos', 'region', '.'], ['This', 'wine', 'is', 'a', 'unique', 'in', 'the', 'state', 'blend', 'and', 'features', 'Cinsault', '(', '35', '%', ')', ',', 'Grenache', '(', '35', '%', ')', 'and', 'Mourvèdre', '.', 'Pale', 'peach', 'in', 'color', 'with', 'a', 'slight', 'bronze', 'tinge', ',', 'the', 'aromas', 'are', 'light', ',', 'with', 'notes', 'of', 'strawberry', ',', 'citrus', 'zest', 'and', 'mineral', '.', 'The', 'flavors', 'are', 'dry', ',', 'sleek', 'and', 'high', 'acid', '.', 'It', \"'s\", 'a', 'perfect', 'summer', 'wine', '.'], ['This', 'brut', 'nature', 'is', 'citric', 'and', 'bubbly', 'on', 'the', 'palate', 'after', 'opening', 'with', 'aromas', 'of', 'weeds', 'and', 'spring', 'onion', '.', 'Flavors', 'of', 'lemon', ',', 'herbs', ',', 'onion', 'and', 'mustard', 'coalesce', 'in', 'front', 'of', 'a', 'bitter', 'finish', '.'], ['A', 'ripe', 'wine', 'that', 'has', 'red-berry', 'fruits', ',', 'slices', 'of', 'black', 'plum', 'and', 'a', 'full', 'deck', 'of', 'tannins', '.', 'It', 'is', 'concentrated', 'and', 'ripe', ',', 'full', 'of', 'fruit', 'and', 'equally', 'full', 'of', 'structure', '.', 'Let', 'the', 'two', 'soften', 'and', 'drink', 'from', '2018', '.'], ['From', 'one', 'of', 'Sicily', \"'s\", 'most', 'beautiful', 'and', 'promising', 'vineyards', ',', 'Baccante', 'is', 'a', 'blend', 'of', 'Grillo', 'and', 'Chardonnay', 'with', 'bright', 'clean', 'acidity', 'and', 'fragrant', 'yellow', 'fruit', '.', 'The', 'only', 'setback', 'here', 'is', 'a', 'matchstick', 'aroma', '(', 'not', 'present', 'in', 'past', 'years', ')', 'that', 'prevents', 'this', 'vintage', 'from', 'scoring', 'higher', '.'], ['This', 'wine', 'plays', 'close', 'to', 'the', 'edge', 'of', 'overripe-ness', ',', 'becoming', 'baked', 'and', 'syrupy-rich', 'in', 'cranberry', 'sauce', 'and', 'clove', '.', 'Nutmeg', 'spice', 'help', 'pique', 'the', 'palate', 'before', 'the', 'high-octane', 'finish', '.'], ['This', 'basic', 'Prosecco', 'is', 'perfectly', 'quaffable', 'thanks', 'to', 'its', 'simple', ',', 'straightforward', 'delivery', '.', 'There', \"'s\", 'a', 'touch', 'of', 'almond', 'or', 'caramel', 'behind', 'the', 'apricot', 'and', 'melon', '.', 'Drink', 'now', ',', 'the', 'wine', 'does', \"n't\", 'have', 'long', 'to', 'go', '.']]\n"
          ],
          "name": "stdout"
        }
      ]
    },
    {
      "cell_type": "code",
      "metadata": {
        "id": "x1iEJdLA4jkh",
        "colab_type": "code",
        "colab": {
          "base_uri": "https://localhost:8080/",
          "height": 74
        },
        "outputId": "7a009a90-1316-4acc-bc48-8e2a4beb1491"
      },
      "source": [
        "#Stop WOrds\n",
        "from nltk.corpus import stopwords \n",
        "stop_words = set(stopwords.words('english')) ##Selecting the stop words we want\n",
        "\n",
        "##########################Update with your own stop words\n",
        "stop_words.update(['.', ',', '\"', \"'\", '?', '!', ':', ';', '(', ')', '[', ']', '{', '}',\"a\", \"about\", \"above\", \"after\", \"again\", \"against\", \"ain\", \"all\", \"am\", \"an\", \"and\", \"any\", \"are\", \"aren\", \"aren't\", \"as\", \"at\", \"be\", \"because\", \"been\", \"before\", \"being\", \"below\", \"between\", \"both\", \"but\", \"by\", \"can\", \"couldn\", \"couldn't\", \"d\", \"did\", \"didn\", \"didn't\", \"do\", \"does\", \"doesn\", \"doesn't\", \"doing\", \"don\", \"don't\", \"down\", \"during\", \"each\", \"few\", \"for\", \"from\", \"further\", \"had\", \"hadn\", \"hadn't\", \"has\", \"hasn\", \"hasn't\", \"have\", \"haven\", \"haven't\", \"having\", \"he\", \"her\", \"here\", \"hers\", \"herself\", \"him\", \"himself\", \"his\", \"how\", \"i\", \"if\", \"in\", \"into\", \"is\", \"isn\", \"isn't\", \"it\", \"it's\", \"its\", \"itself\", \"just\", \"ll\", \"m\", \"ma\", \"me\", \"mightn\", \"mightn't\", \"more\", \"most\", \"mustn\", \"mustn't\", \"my\", \"myself\", \"needn\", \"needn't\", \"no\", \"nor\", \"not\", \"now\", \"o\", \"of\", \"off\", \"on\", \"once\", \"only\", \"or\", \"other\", \"our\", \"ours\", \"ourselves\", \"out\", \"over\", \"own\", \"re\", \"s\", \"same\", \"shan\", \"shan't\", \"she\", \"she's\", \"should\", \"should've\", \"shouldn\", \"shouldn't\", \"so\", \"some\", \"such\", \"t\", \"than\", \"that\", \"that'll\", \"the\", \"their\", \"theirs\", \"them\", \"themselves\", \"then\", \"there\", \"these\", \"they\", \"this\", \"those\", \"through\", \"to\", \"too\", \"under\", \"until\", \"up\", \"ve\", \"very\", \"was\", \"wasn\", \"wasn't\", \"we\", \"were\", \"weren\", \"weren't\", \"what\", \"when\", \"where\", \"which\", \"while\", \"who\", \"whom\", \"why\", \"will\", \"with\", \"won\", \"won't\", \"wouldn\", \"wouldn't\", \"y\", \"you\", \"you'd\", \"you'll\", \"you're\", \"you've\", \"your\", \"yours\", \"yourself\", \"yourselves\", \"could\", \"he'd\", \"he'll\", \"he's\", \"here's\", \"how's\", \"i'd\", \"i'll\", \"i'm\", \"i've\", \"let's\", \"ought\", \"she'd\", \"she'll\", \"that's\", \"there's\", \"they'd\", \"they'll\", \"they're\", \"they've\", \"we'd\", \"we'll\", \"we're\", \"we've\", \"what's\", \"when's\", \"where's\", \"who's\", \"why's\", \"would\", \"able\", \"abst\", \"accordance\", \"according\", \"accordingly\", \"across\", \"act\", \"actually\", \"added\", \"adj\", \"affected\", \"affecting\", \"affects\", \"afterwards\", \"ah\", \"almost\", \"alone\", \"along\", \"already\", \"also\", \"although\", \"always\", \"among\", \"amongst\", \"announce\", \"another\", \"anybody\", \"anyhow\", \"anymore\", \"anyone\", \"anything\", \"anyway\", \"anyways\", \"anywhere\", \"apparently\", \"approximately\", \"arent\", \"arise\", \"around\", \"aside\", \"ask\", \"asking\", \"auth\", \"available\", \"away\", \"awfully\", \"b\", \"back\", \"became\", \"become\", \"becomes\", \"becoming\", \"beforehand\", \"begin\", \"beginning\", \"beginnings\", \"begins\", \"behind\", \"believe\", \"beside\", \"besides\", \"beyond\", \"biol\", \"brief\", \"briefly\", \"c\", \"ca\", \"came\", \"cannot\", \"can't\", \"cause\", \"causes\", \"certain\", \"certainly\", \"co\", \"com\", \"come\", \"comes\", \"contain\", \"containing\", \"contains\", \"couldnt\", \"date\", \"different\", \"done\", \"downwards\", \"due\", \"e\", \"ed\", \"edu\", \"effect\", \"eg\", \"eight\", \"eighty\", \"either\", \"else\", \"elsewhere\", \"end\", \"ending\", \"enough\", \"especially\", \"et\", \"etc\", \"even\", \"ever\", \"every\", \"everybody\", \"everyone\", \"everything\", \"everywhere\", \"ex\", \"except\", \"f\", \"far\", \"ff\", \"fifth\", \"first\", \"five\", \"fix\", \"followed\", \"following\", \"follows\", \"former\", \"formerly\", \"forth\", \"found\", \"four\", \"furthermore\", \"g\", \"gave\", \"get\", \"gets\", \"getting\", \"give\", \"given\", \"gives\", \"giving\", \"go\", \"goes\", \"gone\", \"got\", \"gotten\", \"h\", \"happens\", \"hardly\", \"hed\", \"hence\", \"hereafter\", \"hereby\", \"herein\", \"heres\", \"hereupon\", \"hes\", \"hi\", \"hid\", \"hither\", \"home\", \"howbeit\", \"however\", \"hundred\", \"id\", \"ie\", \"im\", \"immediate\", \"immediately\", \"importance\", \"important\", \"inc\", \"indeed\", \"index\", \"information\", \"instead\", \"invention\", \"inward\", \"itd\", \"it'll\", \"j\", \"k\", \"keep\", \"keeps\", \"kept\", \"kg\", \"km\", \"know\", \"known\", \"knows\", \"l\", \"largely\", \"last\", \"lately\", \"later\", \"latter\", \"latterly\", \"least\", \"less\", \"lest\", \"let\", \"lets\", \"like\", \"liked\", \"likely\", \"line\", \"little\", \"'ll\", \"look\", \"looking\", \"looks\", \"ltd\", \"made\", \"mainly\", \"make\", \"makes\", \"many\", \"may\", \"maybe\", \"mean\", \"means\", \"meantime\", \"meanwhile\", \"merely\", \"mg\", \"might\", \"million\", \"miss\", \"ml\", \"moreover\", \"mostly\", \"mr\", \"mrs\", \"much\", \"mug\", \"must\", \"n\", \"na\", \"name\", \"namely\", \"nay\", \"nd\", \"near\", \"nearly\", \"necessarily\", \"necessary\", \"need\", \"needs\", \"neither\", \"never\", \"nevertheless\", \"new\", \"next\", \"nine\", \"ninety\", \"nobody\", \"non\", \"none\", \"nonetheless\", \"noone\", \"normally\", \"nos\", \"noted\", \"nothing\", \"nowhere\", \"obtain\", \"obtained\", \"obviously\", \"often\", \"oh\", \"ok\", \"okay\", \"old\", \"omitted\", \"one\", \"ones\", \"onto\", \"ord\", \"others\", \"otherwise\", \"outside\", \"overall\", \"owing\", \"p\", \"page\", \"pages\", \"part\", \"particular\", \"particularly\", \"past\", \"per\", \"perhaps\", \"placed\", \"please\", \"plus\", \"poorly\", \"possible\", \"possibly\", \"potentially\", \"pp\", \"predominantly\", \"present\", \"previously\", \"primarily\", \"probably\", \"promptly\", \"proud\", \"provides\", \"put\", \"q\", \"que\", \"quickly\", \"quite\", \"qv\", \"r\", \"ran\", \"rather\", \"rd\", \"readily\", \"really\", \"recent\", \"recently\", \"ref\", \"refs\", \"regarding\", \"regardless\", \"regards\", \"related\", \"relatively\", \"research\", \"respectively\", \"resulted\", \"resulting\", \"results\", \"right\", \"run\", \"said\", \"saw\", \"say\", \"saying\", \"says\", \"sec\", \"section\", \"see\", \"seeing\", \"seem\", \"seemed\", \"seeming\", \"seems\", \"seen\", \"self\", \"selves\", \"sent\", \"seven\", \"several\", \"shall\", \"shed\", \"shes\", \"show\", \"showed\", \"shown\", \"showns\", \"shows\", \"significant\", \"significantly\", \"similar\", \"similarly\", \"since\", \"six\", \"slightly\", \"somebody\", \"somehow\", \"someone\", \"somethan\", \"something\", \"sometime\", \"sometimes\", \"somewhat\", \"somewhere\", \"soon\", \"sorry\", \"specifically\", \"specified\", \"specify\", \"specifying\", \"still\", \"stop\", \"strongly\", \"sub\", \"substantially\", \"successfully\", \"sufficiently\", \"suggest\", \"sup\", \"sure\", \"take\", \"taken\", \"taking\", \"tell\", \"tends\", \"th\", \"thank\", \"thanks\", \"thanx\", \"thats\", \"that've\", \"thence\", \"thereafter\", \"thereby\", \"thered\", \"therefore\", \"therein\", \"there'll\", \"thereof\", \"therere\", \"theres\", \"thereto\", \"thereupon\", \"there've\", \"theyd\", \"theyre\", \"think\", \"thou\", \"though\", \"thoughh\", \"thousand\", \"throug\", \"throughout\", \"thru\", \"thus\", \"til\", \"tip\", \"together\", \"took\", \"toward\", \"towards\", \"tried\", \"tries\", \"truly\", \"try\", \"trying\", \"ts\", \"twice\", \"two\", \"u\", \"un\", \"unfortunately\", \"unless\", \"unlike\", \"unlikely\", \"unto\", \"upon\", \"ups\", \"us\", \"use\", \"used\", \"useful\", \"usefully\", \"usefulness\", \"uses\", \"using\", \"usually\", \"v\", \"value\", \"various\", \"'ve\", \"via\", \"viz\", \"vol\", \"vols\", \"vs\", \"w\", \"want\", \"wants\", \"wasnt\", \"way\", \"wed\", \"welcome\", \"went\", \"werent\", \"whatever\", \"what'll\", \"whats\", \"whence\", \"whenever\", \"whereafter\", \"whereas\", \"whereby\", \"wherein\", \"wheres\", \"whereupon\", \"wherever\", \"whether\", \"whim\", \"whither\", \"whod\", \"whoever\", \"whole\", \"who'll\", \"whomever\", \"whos\", \"whose\", \"widely\", \"willing\", \"wish\", \"within\", \"without\", \"wont\", \"words\", \"world\", \"wouldnt\", \"www\", \"x\", \"yes\", \"yet\", \"youd\", \"youre\", \"z\", \"zero\", \"a's\", \"ain't\", \"allow\", \"allows\", \"apart\", \"appear\", \"appreciate\", \"appropriate\", \"associated\", \"best\", \"better\", \"c'mon\", \"c's\", \"cant\", \"changes\", \"clearly\", \"concerning\", \"consequently\", \"consider\", \"considering\", \"corresponding\", \"course\", \"currently\", \"definitely\", \"described\", \"despite\", \"entirely\", \"exactly\", \"example\", \"going\", \"greetings\", \"hello\", \"help\", \"hopefully\", \"ignored\", \"inasmuch\", \"indicate\", \"indicated\", \"indicates\", \"inner\", \"insofar\", \"it'd\", \"keep\", \"keeps\", \"novel\", \"presumably\", \"reasonably\", \"second\", \"secondly\", \"sensible\", \"serious\", \"seriously\", \"sure\", \"t's\", \"third\", \"thorough\", \"thoroughly\", \"three\", \"well\", \"wonder\", \"a\", \"about\", \"above\", \"above\", \"across\", \"after\", \"afterwards\", \"again\", \"against\", \"all\", \"almost\", \"alone\", \"along\", \"already\", \"also\", \"although\", \"always\", \"am\", \"among\", \"amongst\", \"amoungst\", \"amount\", \"an\", \"and\", \"another\", \"any\", \"anyhow\", \"anyone\", \"anything\", \"anyway\", \"anywhere\", \"are\", \"around\", \"as\", \"at\", \"back\", \"be\", \"became\", \"because\", \"become\", \"becomes\", \"becoming\", \"been\", \"before\", \"beforehand\", \"behind\", \"being\", \"below\", \"beside\", \"besides\", \"between\", \"beyond\", \"bill\", \"both\", \"bottom\", \"but\", \"by\", \"call\", \"can\", \"cannot\", \"cant\", \"co\", \"con\", \"could\", \"couldnt\", \"cry\", \"de\", \"describe\", \"detail\", \"do\", \"done\", \"down\", \"due\", \"during\", \"each\", \"eg\", \"eight\", \"either\", \"eleven\", \"else\", \"elsewhere\", \"empty\", \"enough\", \"etc\", \"even\", \"ever\", \"every\", \"everyone\", \"everything\", \"everywhere\", \"except\", \"few\", \"fifteen\", \"fify\", \"fill\", \"find\", \"fire\", \"first\", \"five\", \"for\", \"former\", \"formerly\", \"forty\", \"found\", \"four\", \"from\", \"front\", \"full\", \"further\", \"get\", \"give\", \"go\", \"had\", \"has\", \"hasnt\", \"have\", \"he\", \"hence\", \"her\", \"here\", \"hereafter\", \"hereby\", \"herein\", \"hereupon\", \"hers\", \"herself\", \"him\", \"himself\", \"his\", \"how\", \"however\", \"hundred\", \"ie\", \"if\", \"in\", \"inc\", \"indeed\", \"interest\", \"into\", \"is\", \"it\", \"its\", \"itself\", \"keep\", \"last\", \"latter\", \"latterly\", \"least\", \"less\", \"ltd\", \"made\", \"many\", \"may\", \"me\", \"meanwhile\", \"might\", \"mill\", \"mine\", \"more\", \"moreover\", \"most\", \"mostly\", \"move\", \"much\", \"must\", \"my\", \"myself\", \"name\", \"namely\", \"neither\", \"never\", \"nevertheless\", \"next\", \"nine\", \"no\", \"nobody\", \"none\", \"noone\", \"nor\", \"not\", \"nothing\", \"now\", \"nowhere\", \"of\", \"off\", \"often\", \"on\", \"once\", \"one\", \"only\", \"onto\", \"or\", \"other\", \"others\", \"otherwise\", \"our\", \"ours\", \"ourselves\", \"out\", \"over\", \"own\", \"part\", \"per\", \"perhaps\", \"please\", \"put\", \"rather\", \"re\", \"same\", \"see\", \"seem\", \"seemed\", \"seeming\", \"seems\", \"serious\", \"several\", \"she\", \"should\", \"show\", \"side\", \"since\", \"sincere\", \"six\", \"sixty\", \"so\", \"some\", \"somehow\", \"someone\", \"something\", \"sometime\", \"sometimes\", \"somewhere\", \"still\", \"such\", \"system\", \"take\", \"ten\", \"than\", \"that\", \"the\", \"their\", \"them\", \"themselves\", \"then\", \"thence\", \"there\", \"thereafter\", \"thereby\", \"therefore\", \"therein\", \"thereupon\", \"these\", \"they\", \"thickv\", \"thin\", \"third\", \"this\", \"those\", \"though\", \"three\", \"through\", \"throughout\", \"thru\", \"thus\", \"to\", \"together\", \"too\", \"top\", \"toward\", \"towards\", \"twelve\", \"twenty\", \"two\", \"un\", \"under\", \"until\", \"up\", \"upon\", \"us\", \"very\", \"via\", \"was\", \"we\", \"well\", \"were\", \"what\", \"whatever\", \"when\", \"whence\", \"whenever\", \"where\", \"whereafter\", \"whereas\", \"whereby\", \"wherein\", \"whereupon\", \"wherever\", \"whether\", \"which\", \"while\", \"whither\", \"who\", \"whoever\", \"whole\", \"whom\", \"whose\", \"why\", \"will\", \"with\", \"within\", \"without\", \"would\", \"yet\", \"you\", \"your\", \"yours\", \"yourself\", \"yourselves\", \"the\", \"a\", \"b\", \"c\", \"d\", \"e\", \"f\", \"g\", \"h\", \"i\", \"j\", \"k\", \"l\", \"m\", \"n\", \"o\", \"p\", \"q\", \"r\", \"s\", \"t\", \"u\", \"v\", \"w\", \"x\", \"y\", \"z\", \"A\", \"B\", \"C\", \"D\", \"E\", \"F\", \"G\", \"H\", \"I\", \"J\", \"K\", \"L\", \"M\", \"N\", \"O\", \"P\", \"Q\", \"R\", \"S\", \"T\", \"U\", \"V\", \"W\", \"X\", \"Y\", \"Z\", \"co\", \"op\", \"research-articl\", \"pagecount\", \"cit\", \"ibid\", \"les\", \"le\", \"au\", \"que\", \"est\", \"pas\", \"vol\", \"el\", \"los\", \"pp\", \"u201d\", \"well-b\", \"http\", \"volumtype\", \"par\", \"0o\", \"0s\", \"3a\", \"3b\", \"3d\", \"6b\", \"6o\", \"a1\", \"a2\", \"a3\", \"a4\", \"ab\", \"ac\", \"ad\", \"ae\", \"af\", \"ag\", \"aj\", \"al\", \"an\", \"ao\", \"ap\", \"ar\", \"av\", \"aw\", \"ax\", \"ay\", \"az\", \"b1\", \"b2\", \"b3\", \"ba\", \"bc\", \"bd\", \"be\", \"bi\", \"bj\", \"bk\", \"bl\", \"bn\", \"bp\", \"br\", \"bs\", \"bt\", \"bu\", \"bx\", \"c1\", \"c2\", \"c3\", \"cc\", \"cd\", \"ce\", \"cf\", \"cg\", \"ch\", \"ci\", \"cj\", \"cl\", \"cm\", \"cn\", \"cp\", \"cq\", \"cr\", \"cs\", \"ct\", \"cu\", \"cv\", \"cx\", \"cy\", \"cz\", \"d2\", \"da\", \"dc\", \"dd\", \"de\", \"df\", \"di\", \"dj\", \"dk\", \"dl\", \"do\", \"dp\", \"dr\", \"ds\", \"dt\", \"du\", \"dx\", \"dy\", \"e2\", \"e3\", \"ea\", \"ec\", \"ed\", \"ee\", \"ef\", \"ei\", \"ej\", \"el\", \"em\", \"en\", \"eo\", \"ep\", \"eq\", \"er\", \"es\", \"et\", \"eu\", \"ev\", \"ex\", \"ey\", \"f2\", \"fa\", \"fc\", \"ff\", \"fi\", \"fj\", \"fl\", \"fn\", \"fo\", \"fr\", \"fs\", \"ft\", \"fu\", \"fy\", \"ga\", \"ge\", \"gi\", \"gj\", \"gl\", \"go\", \"gr\", \"gs\", \"gy\", \"h2\", \"h3\", \"hh\", \"hi\", \"hj\", \"ho\", \"hr\", \"hs\", \"hu\", \"hy\", \"i\", \"i2\", \"i3\", \"i4\", \"i6\", \"i7\", \"i8\", \"ia\", \"ib\", \"ic\", \"ie\", \"ig\", \"ih\", \"ii\", \"ij\", \"il\", \"in\", \"io\", \"ip\", \"iq\", \"ir\", \"iv\", \"ix\", \"iy\", \"iz\", \"jj\", \"jr\", \"js\", \"jt\", \"ju\", \"ke\", \"kg\", \"kj\", \"km\", \"ko\", \"l2\", \"la\", \"lb\", \"lc\", \"lf\", \"lj\", \"ln\", \"lo\", \"lr\", \"ls\", \"lt\", \"m2\", \"ml\", \"mn\", \"mo\", \"ms\", \"mt\", \"mu\", \"n2\", \"nc\", \"nd\", \"ne\", \"ng\", \"ni\", \"nj\", \"nl\", \"nn\", \"nr\", \"ns\", \"nt\", \"ny\", \"oa\", \"ob\", \"oc\", \"od\", \"of\", \"og\", \"oi\", \"oj\", \"ol\", \"om\", \"on\", \"oo\", \"oq\", \"or\", \"os\", \"ot\", \"ou\", \"ow\", \"ox\", \"oz\", \"p1\", \"p2\", \"p3\", \"pc\", \"pd\", \"pe\", \"pf\", \"ph\", \"pi\", \"pj\", \"pk\", \"pl\", \"pm\", \"pn\", \"po\", \"pq\", \"pr\", \"ps\", \"pt\", \"pu\", \"py\", \"qj\", \"qu\", \"r2\", \"ra\", \"rc\", \"rd\", \"rf\", \"rh\", \"ri\", \"rj\", \"rl\", \"rm\", \"rn\", \"ro\", \"rq\", \"rr\", \"rs\", \"rt\", \"ru\", \"rv\", \"ry\", \"s2\", \"sa\", \"sc\", \"sd\", \"se\", \"sf\", \"si\", \"sj\", \"sl\", \"sm\", \"sn\", \"sp\", \"sq\", \"sr\", \"ss\", \"st\", \"sy\", \"sz\", \"t1\", \"t2\", \"t3\", \"tb\", \"tc\", \"td\", \"te\", \"tf\", \"th\", \"ti\", \"tj\", \"tl\", \"tm\", \"tn\", \"tp\", \"tq\", \"tr\", \"ts\", \"tt\", \"tv\", \"tx\", \"ue\", \"ui\", \"uj\", \"uk\", \"um\", \"un\", \"uo\", \"ur\", \"ut\", \"va\", \"wa\", \"vd\", \"wi\", \"vj\", \"vo\", \"wo\", \"vq\", \"vt\", \"vu\", \"x1\", \"x2\", \"x3\", \"xf\", \"xi\", \"xj\", \"xk\", \"xl\", \"xn\", \"xo\", \"xs\", \"xt\", \"xv\", \"xx\", \"y2\", \"yj\", \"yl\", \"yr\", \"ys\", \"yt\", \"zi\", \"zz\"]) \n",
        "print(len(stop_words))\n",
        "print(stop_words)\n",
        "\n"
      ],
      "execution_count": null,
      "outputs": [
        {
          "output_type": "stream",
          "text": [
            "1199\n",
            "{'om', 'regardless', 'under', 'hereafter', 'kg', 'right', 'thereof', 'maybe', 'whether', 'usually', 'fu', 'thorough', \"t's\", 'please', 'E', 'those', \"what's\", 'eu', 'different', 'nowhere', 'outside', 'eg', 'quickly', 'present', 't1', 'interest', 'S', 'thickv', 'truly', 'oa', 'currently', 'kept', 'substantially', 'definitely', 'ea', 'added', 'na', 'thanks', 'last', 'ltd', 'became', 'wouldn', 'sub', 'ej', 'gives', 'indeed', 'looking', 'i2', 'then', 'um', 'what', 'ps', 'hardly', 'a1', 'volumtype', 'aren', 'probably', 'let', 'therefore', 'two', 'mainly', 'obtained', 'which', '.', 'came', 'system', 'largely', 'appear', 'whither', 'youd', \"won't\", \"it'll\", 'mt', 'bj', 'although', 'took', 'ct', 'whereafter', 'ii', 'need', 'youre', 'he', \"she'd\", 'consider', 'cd', 'know', 'obviously', 'ho', 'lt', 's2', 'up', 'that', \"doesn't\", 'arise', 'you', 'be', 'near', 'the', 'ys', 'dd', 'respectively', 'si', 'everybody', 'eight', 'ref', 'ju', 'itd', 'pd', 'Q', 'wouldnt', 'world', 'ne', 'specify', 'cannot', 'keeps', \"hasn't\", \"we're\", 'me', 'but', 'according', 'begins', 'n', 'au', 'effect', 'oi', 'anything', 'ff', 'ow', 'from', 'ra', 'enough', 'cv', 'pt', 'vt', 'st', 'significant', 'taken', 'ours', 'tends', 'b2', 'xv', 'A', 'am', 'tf', 'until', 'ox', 'due', 'auth', 'getting', 'recently', 'thin', 'often', 'fj', 'welcome', 'would', 'lb', 'cn', 'own', 'already', 'give', 'about', 'move', 'someone', 'ask', 'cf', 'sup', 'theyd', \"why's\", 'D', 'dt', 'here', 'ord', '[', 'successfully', 'old', 'something', 'words', 'related', 'rr', 'actually', 'potentially', 'q', 'also', 'becoming', 'five', 'ok', 'B', 'described', 'ri', 'allow', 'qu', \"there's\", \"should've\", 'certain', 'ten', 'eq', 'and', 'fify', 'xj', 'hopefully', 'pc', 'cry', ',', 'i', \"wasn't\", 'fix', 'thereto', 'usefully', 'pu', 'hereupon', 'ol', 'cr', 'whence', 'par', 'its', \"he'll\", 'new', 'follows', 'eleven', \"wouldn't\", 'when', 'affected', 'elsewhere', 'hereby', 'several', 'plus', 'want', 'ei', 'ma', 'therere', 'ed', 'iy', 'furthermore', 'b3', 'ninety', 'fc', 'adj', 'dc', 'ab', 'hers', 'too', 'nevertheless', 'thanx', 'rf', 'rh', 'end', 'ih', 'believe', \"you'll\", 'ec', \"you're\", 'regards', \"who'll\", 'forty', 'page', 'cq', 'tm', 'le', 'xs', 'yj', 'come', 'below', 'http', 'fl', 'ix', 'ru', 'x2', 'shes', 'rj', 't', 'ca', 'around', 'td', 'did', '3a', 'anybody', 'upon', 'among', 'whoever', 'iv', 'example', \"they'd\", 'pagecount', 't2', 'anyways', \"what'll\", 'particular', 'put', 'qv', 'R', 'ng', 'p1', 'nd', 'N', 'y2', 'nay', 'during', 'much', 'many', 'i7', 'name', 'obtain', 'uo', 'os', 'briefly', 'looks', 'than', 'zz', 'their', 'known', 'xl', 'com', \"when's\", 'afterwards', 'ut', 'co', 'former', 'herein', 'ci', 'very', 'her', 'beside', 'million', \"there've\", 'far', 'hundred', 'thus', 'ni', 'fill', \"'ll\", 'may', 'est', 'seven', 'going', 'considering', 'seriously', 'information', 'anywhere', 'k', 'becomes', 'will', 'ui', 'perhaps', \"can't\", 'theyre', 'py', 'himself', 'anyone', 'still', 'whenever', 'somethan', 'whatever', 'i4', 'ke', 'tr', 'mightn', 'xx', 'before', 'always', 'themselves', 'beginning', 'resulting', 'top', '6b', 'really', 'alone', 'ups', 'c2', 'beforehand', 'ph', 'bp', 'y', 'seem', 'how', 'C', 'in', 'get', 'few', 'isn', 'throughout', 'immediately', 'az', 'uj', 'having', 'xk', 'date', 'does', 'won', '}', 'nearly', 'both', 'us', 'downwards', 'somehow', \"who's\", 'twenty', 'tq', '6o', 'p', 'X', 'cz', 'contains', 'xi', 'jr', 'such', 'across', 'got', 'lets', 'weren', 'www', 'dl', 'qj', 'herself', 'ti', \"i'll\", 'who', 'index', '(', 'away', 'insofar', 'rs', 'es', 'detail', 'pl', 'et', 'specifying', 'yt', 'using', 'cause', 'ev', 'biol', 'hasn', 'ko', 'hence', 'unto', 'after', 'hy', 'where', 'all', 'happens', 'through', 'ain', 'km', 'needs', 'oh', 'sj', 'sec', 'specifically', 'O', 'fo', 'promptly', 'nobody', 'we', 'usefulness', 'inner', 'cl', 'tj', 'results', \"'ve\", 'despite', 'fifteen', 'rv', 'nothing', 'slightly', 'nl', 'contain', 'nj', 'mrs', 'shown', 'kj', 'gy', 'J', 'vj', 'xt', 'a', 'vol', 'was', 'empty', 'provides', 'vols', 'importance', 'thank', 'mill', 'ib', 'h', 'mean', 'see', 'da', 'gone', 'arent', 'di', 'done', 'la', 'a4', 'are', 'been', 'bs', 'other', 'ss', 'possible', 'thats', 'each', 'hither', 'nonetheless', 'sometimes', 'any', 'don', 'cant', 'inasmuch', 'secondly', 'e', 'hr', 'ms', 'showed', 'trying', 'hs', 'instead', 'ag', 'c3', 'thru', 'fi', 'cy', 'ur', 'ln', 'saw', 'gs', 'shows', 'op', 'show', \"let's\", 'sf', 'immediate', 'a3', ')', 'u', 'asking', 'n2', 'changes', 'similarly', 'cj', 'de', 'thereupon', 'bc', 'hid', 'sa', 'cit', 'af', 'saying', 'merely', 'whereby', '{', 'whereas', 'allows', 'hh', 'oq', 'if', 'ip', 'third', 'rn', \"here's\", 'every', 'resulted', 'fy', 'another', \"couldn't\", ':', \"they've\", \"shouldn't\", 'make', 'might', 'placed', 'found', 'sincere', 'back', 'my', 'od', 'ij', 'on', 'accordance', 'even', 'lj', 'poorly', 'xn', 'nos', 'tc', 'noone', 'for', 'available', 'un', 'P', 'likely', 'fa', 'i8', 'sl', 'dj', 'presumably', 'previously', 'act', 'proud', 'though', 'towards', 'nt', 'is', 'down', 'ue', 'just', 'xo', \"i've\", 'lest', 'ns', 'pi', 'tried', 'rm', 'clearly', 'concerning', 'iq', 'pf', 'needn', 'home', 'containing', 'go', 'followed', 'miss', 'vd', \"don't\", 'm', 'V', 'possibly', 'aj', 'ge', 'T', 'accordingly', 'rc', 'pk', 'she', 'tt', 'yl', 'nine', \"it's\", 'll', \"shan't\", 'look', 'used', 'must', 'ar', 'off', 'whomever', 'ae', 'meanwhile', 'zero', 'necessarily', 'mu', 'rl', 'br', 'went', 'widely', 'so', 'em', 'va', 'most', 'ot', 'gr', 'myself', 'yet', 'dp', 'whos', 'onto', \"c'mon\", 'reasonably', \"ain't\", 'z', 'giving', 'of', 'yr', 'taking', 'j', 'quite', 'bill', 'unlikely', 'have', 'l2', 're', 'important', 'im', 'wish', 'ga', 'pas', 'our', 'says', 'okay', 'way', 'jt', 'willing', 'section', 'oo', \"you'd\", 'whose', 'hj', 'W', 'ml', 'sufficiently', 'wherein', 'together', 'wed', 'shed', 'lr', 'well-b', 'ibid', 'tries', 'various', 'F', 'readily', \"aren't\", '\"', 'keep', 'approximately', 'th', 'lc', 'should', 'fn', 'e2', 'i3', 'nc', '0s', 'help', 'since', 'hu', 'sz', 'tp', 'affecting', 'moreover', 'only', 'this', 'cm', 'i6', 'namely', 'og', 'find', 'w', 'wasn', 'viz', 'part', 'ever', 'thou', 'aw', 'along', 'anyway', 'ba', ']', 'gi', 'du', \"she'll\", 'within', 'cg', 'fr', 't3', 'now', \"i'd\", 'ie', 'thence', 'whod', 'mg', 'pe', 'sq', 'therein', 'I', 'eighty', 'wasnt', 'Y', 'sometime', 'v', 'his', 'theirs', 'as', 'av', 'why', 'mustn', 'able', 'per', 'consequently', 'gotten', 'ey', \"isn't\", 'invention', \"you've\", 'whole', 'an', 'gave', 'begin', 'oc', \"that's\", 'regarding', 'sp', 'it', 'made', 'indicate', 'sixty', 'ex', 'similar', 'at', 'ft', 'past', 'apart', 'not', 'behind', 'eo', 'etc', 'ignored', 'being', 'wo', 'can', 'df', 'certainly', 'x', 'following', 'mine', 'to', 'has', 'til', 'research-articl', 'were', 'otherwise', 'jj', 'lf', 'abst', 'makes', \"there'll\", 'que', 'itself', \"we've\", 'gl', 'twice', 'well', 'a2', 'p3', 'think', 'seeing', 'bi', 'they', ';', 'id', 'con', 'ny', 'amoungst', 'ac', 'whats', 'cc', 'thoroughly', 'ao', 'appropriate', 'indicates', 'gj', 'howbeit', 'ir', 'nr', 'omitted', 'h3', 'ax', 'against', 'dk', 'wants', 've', \"how's\", 'become', 'b', 'mr', 'ro', 'mostly', 'showns', 'bd', 'ds', 'there', 'mn', 'tl', \"a's\", 'course', 'no', 'take', 'cs', 'u201d', 'ic', 'hi', 'them', 'everything', 'K', 'beginnings', 'bottom', 'lo', 'sm', 'front', 'call', 'corresponding', 'ending', 'inc', 'little', 'refs', 'besides', 'suggest', 'seems', 'pj', 'shall', 'xf', 'because', \"that've\", 'some', 'cx', 'ry', 'gets', \"it'd\", 'H', 'everywhere', 'between', 'se', 'ay', 'lately', 'your', 'aside', 'others', 'useful', 'ah', 'ran', 'po', 'either', 'vq', 'los', 'never', 'else', 'above', 'line', 'means', 'goes', 'less', 'best', 'pp', 'owing', 'strongly', 'o', 'te', 'sorry', 'full', 'throug', 'one', 'least', 'zi', \"didn't\", 'ones', 'sent', 'somewhat', 'serious', 'awfully', 'pm', 'without', 's', 'neither', 'thoughh', \"where's\", 'latterly', 'thereafter', 'uk', 'again', \"hadn't\", 'run', 'thereby', 'apparently', 'seeming', 'forth', 'hes', 'use', 'wheres', 'sn', 'side', 'recent', 'anyhow', 'shouldn', \"i'm\", 'bu', 'fire', 'shan', 'fifth', 'ob', 'necessary', 'appreciate', 'or', 'via', 'bx', 'seemed', 'six', \"haven't\", 'pq', 'announce', 'thered', 'overall', 'significantly', 'yes', \"weren't\", 'en', 'whom', 'ep', 'tip', 'whereupon', 'into', '3d', 'uses', 'twelve', 'later', 'stop', 'heres', 'sensible', 'formerly', 'dy', '!', 'beyond', 'somebody', 'sd', 'er', 'dx', \"needn't\", 'inward', 'al', 'cu', 'liked', 'soon', 'self', 'second', 'M', 'wonder', 'oj', 'couldnt', \"we'd\", 'ts', 'knows', 'werent', 'affects', 'wherever', 'hasnt', 'wont', 'x3', \"she's\", 'with', 'Z', 'selves', '3b', 'better', 'ap', 'ia', 'edu', 'yourselves', 'cp', 'first', 'meantime', 'U', 'amount', 'amongst', 'primarily', 'les', 'b1', 'g', \"they'll\", 'none', \"he's\", 'iz', 'pr', 'while', 'latter', 'sy', 'entirely', 'by', 'relatively', 'value', 'ch', 'rt', 'especially', 'greetings', 'wa', 'like', 'theres', 'tell', 'said', 'didn', 'three', 'ought', 'specified', 'l', 'unfortunately', \"mightn't\", \"mustn't\", 'describe', 'given', 'vs', 'p2', 'everyone', 'wi', 'somewhere', 'noted', 'once', 'thousand', 'dr', 'non', 'doing', 'same', 'doesn', 'el', 'unless', \"we'll\", 'next', 'him', '?', 'toward', 'nn', 'these', 'however', 'il', 'fs', 'r', 'causes', 'four', 'io', 'particularly', 'bl', 'whim', 'hadn', 'sure', 'ad', 'exactly', 'tb', 'd', \"he'd\", 'out', \"c's\", 'ourselves', \"'\", 'unlike', \"that'll\", 'more', 'mug', 'research', 'bn', 'oz', 'sr', 'tv', 'h2', 'ce', 'vu', 'c', 'd2', 'rd', 'could', 'say', 'rq', 'associated', 'nor', 'bk', 'js', 'tx', \"they're\", 'hello', 'novel', 'do', 'ou', 'pn', 'ig', 'had', 'haven', 'seen', 'comes', 'yourself', 'G', 'rather', 'brief', 'c1', 'further', 'm2', 'predominantly', 'mo', 'r2', 'bt', 'f2', 'vo', 'sc', 'couldn', 'almost', 'f', 'ls', 'hed', 'indicated', '0o', 'try', 'ef', 'pages', 'x1', 'tn', 'L', 'except', 'yours', 'e3', 'over', 'anymore', 'ee', 'normally'}\n"
          ],
          "name": "stdout"
        }
      ]
    },
    {
      "cell_type": "code",
      "metadata": {
        "id": "hTraGLaUbNj9",
        "colab_type": "code",
        "colab": {
          "base_uri": "https://localhost:8080/",
          "height": 55
        },
        "outputId": "7ab76d4d-9ea0-45fa-ba08-2dc249c4858d"
      },
      "source": [
        "#filtering\n",
        "filtered = []\n",
        "for i in range(len(word_tokens)):\n",
        "  a=[]\n",
        "  for j in range(len(word_tokens[i])):\n",
        "    b=str(word_tokens[i][j])\n",
        "    if b not in stop_words:\n",
        "      a.append(word_tokens[i][j])\n",
        "  filtered.append(a)\n",
        "print(filtered[0])\n"
      ],
      "execution_count": null,
      "outputs": [
        {
          "output_type": "stream",
          "text": [
            "['This', 'fine', 'rich', 'balanced', 'wine', 'It', 'ripe', 'fruits', 'black', 'currants', 'blackberries', 'tight', 'stalky', 'mineral', 'element', 'At', 'time', \"'s\", 'generous', 'juicy', 'acidity', 'contrast', 'dusty', 'tannin', 'layer', 'Drink']\n"
          ],
          "name": "stdout"
        }
      ]
    },
    {
      "cell_type": "code",
      "metadata": {
        "id": "wYKWg9nU5kd4",
        "colab_type": "code",
        "colab": {
          "base_uri": "https://localhost:8080/",
          "height": 35
        },
        "outputId": "e15af721-8bf8-4632-b00a-b3c388a6ee91"
      },
      "source": [
        "len(filtered)"
      ],
      "execution_count": null,
      "outputs": [
        {
          "output_type": "execute_result",
          "data": {
            "text/plain": [
              "175000"
            ]
          },
          "metadata": {
            "tags": []
          },
          "execution_count": 28
        }
      ]
    },
    {
      "cell_type": "code",
      "metadata": {
        "id": "Vn6FlfAA5y69",
        "colab_type": "code",
        "colab": {}
      },
      "source": [
        "from sklearn.feature_extraction.text import CountVectorizer\n",
        "\n",
        "countvec1 = CountVectorizer()\n",
        "dtm = pd.DataFrame(countvec1.fit_transform(des).toarray(), columns=countvec1.get_feature_names(), index=None)\n"
      ],
      "execution_count": null,
      "outputs": []
    },
    {
      "cell_type": "code",
      "metadata": {
        "id": "9OvWwA9Lc5PT",
        "colab_type": "code",
        "colab": {
          "base_uri": "https://localhost:8080/",
          "height": 574
        },
        "outputId": "14a4d328-4973-4034-e6f5-31e86108b406"
      },
      "source": [
        "train.head()"
      ],
      "execution_count": null,
      "outputs": [
        {
          "output_type": "execute_result",
          "data": {
            "text/html": [
              "<div>\n",
              "<style scoped>\n",
              "    .dataframe tbody tr th:only-of-type {\n",
              "        vertical-align: middle;\n",
              "    }\n",
              "\n",
              "    .dataframe tbody tr th {\n",
              "        vertical-align: top;\n",
              "    }\n",
              "\n",
              "    .dataframe thead th {\n",
              "        text-align: right;\n",
              "    }\n",
              "</style>\n",
              "<table border=\"1\" class=\"dataframe\">\n",
              "  <thead>\n",
              "    <tr style=\"text-align: right;\">\n",
              "      <th></th>\n",
              "      <th>country</th>\n",
              "      <th>description</th>\n",
              "      <th>designation</th>\n",
              "      <th>id</th>\n",
              "      <th>index</th>\n",
              "      <th>points</th>\n",
              "      <th>price</th>\n",
              "      <th>price_per_country_x</th>\n",
              "      <th>price_per_province_x</th>\n",
              "      <th>price_per_variety_x</th>\n",
              "      <th>price_per_winery_x</th>\n",
              "      <th>province</th>\n",
              "      <th>region_1</th>\n",
              "      <th>region_2</th>\n",
              "      <th>taster_name</th>\n",
              "      <th>taster_twitter_handle</th>\n",
              "      <th>title</th>\n",
              "      <th>variety</th>\n",
              "      <th>winery</th>\n",
              "      <th>price_per_country_y</th>\n",
              "      <th>price_per_province_y</th>\n",
              "      <th>price_per_variety_y</th>\n",
              "      <th>price_per_winery_y</th>\n",
              "      <th>europe</th>\n",
              "      <th>north_america</th>\n",
              "      <th>south_america</th>\n",
              "      <th>africa</th>\n",
              "      <th>asia</th>\n",
              "      <th>a40</th>\n",
              "      <th>a30</th>\n",
              "      <th>a20</th>\n",
              "      <th>a10</th>\n",
              "      <th>b40</th>\n",
              "      <th>b30</th>\n",
              "      <th>b20</th>\n",
              "      <th>b10</th>\n",
              "    </tr>\n",
              "  </thead>\n",
              "  <tbody>\n",
              "    <tr>\n",
              "      <th>0</th>\n",
              "      <td>Portugal</td>\n",
              "      <td>This is a fine rich balanced wine. It has ripe...</td>\n",
              "      <td>Vila Santa Reserva</td>\n",
              "      <td>32027</td>\n",
              "      <td>NaN</td>\n",
              "      <td>88.870874</td>\n",
              "      <td>20.0</td>\n",
              "      <td>26.060501</td>\n",
              "      <td>22.461613</td>\n",
              "      <td>24.285346</td>\n",
              "      <td>18.969697</td>\n",
              "      <td>Alentejano</td>\n",
              "      <td>NaN</td>\n",
              "      <td>NaN</td>\n",
              "      <td>NaN</td>\n",
              "      <td>NaN</td>\n",
              "      <td>NaN</td>\n",
              "      <td>PORTUGUESE RED</td>\n",
              "      <td>J. Portugal Ramos</td>\n",
              "      <td>26.060501</td>\n",
              "      <td>22.461613</td>\n",
              "      <td>24.285346</td>\n",
              "      <td>18.969697</td>\n",
              "      <td>1</td>\n",
              "      <td>0</td>\n",
              "      <td>0</td>\n",
              "      <td>0</td>\n",
              "      <td>0</td>\n",
              "      <td>0</td>\n",
              "      <td>0</td>\n",
              "      <td>1</td>\n",
              "      <td>0</td>\n",
              "      <td>0</td>\n",
              "      <td>0</td>\n",
              "      <td>1</td>\n",
              "      <td>0</td>\n",
              "    </tr>\n",
              "    <tr>\n",
              "      <th>1</th>\n",
              "      <td>France</td>\n",
              "      <td>A solid, chunky wine, with a structure that is...</td>\n",
              "      <td>NaN</td>\n",
              "      <td>71079</td>\n",
              "      <td>NaN</td>\n",
              "      <td>88.041695</td>\n",
              "      <td>28.0</td>\n",
              "      <td>43.367316</td>\n",
              "      <td>40.651991</td>\n",
              "      <td>48.408807</td>\n",
              "      <td>28.000000</td>\n",
              "      <td>Bordeaux</td>\n",
              "      <td>Lalande de Pomerol</td>\n",
              "      <td>NaN</td>\n",
              "      <td>NaN</td>\n",
              "      <td>NaN</td>\n",
              "      <td>NaN</td>\n",
              "      <td>BORDEAUX-STYLE RED BLEND</td>\n",
              "      <td>Château Tour Grand Colombier</td>\n",
              "      <td>43.367316</td>\n",
              "      <td>40.651991</td>\n",
              "      <td>48.408807</td>\n",
              "      <td>28.000000</td>\n",
              "      <td>1</td>\n",
              "      <td>0</td>\n",
              "      <td>0</td>\n",
              "      <td>0</td>\n",
              "      <td>0</td>\n",
              "      <td>1</td>\n",
              "      <td>0</td>\n",
              "      <td>0</td>\n",
              "      <td>0</td>\n",
              "      <td>1</td>\n",
              "      <td>0</td>\n",
              "      <td>0</td>\n",
              "      <td>0</td>\n",
              "    </tr>\n",
              "    <tr>\n",
              "      <th>2</th>\n",
              "      <td>France</td>\n",
              "      <td>This is powerful and concentrated, with the hi...</td>\n",
              "      <td>NaN</td>\n",
              "      <td>32440</td>\n",
              "      <td>NaN</td>\n",
              "      <td>94.085021</td>\n",
              "      <td>130.0</td>\n",
              "      <td>43.367316</td>\n",
              "      <td>40.651991</td>\n",
              "      <td>48.408807</td>\n",
              "      <td>135.000000</td>\n",
              "      <td>Bordeaux</td>\n",
              "      <td>Saint-Émilion</td>\n",
              "      <td>NaN</td>\n",
              "      <td>NaN</td>\n",
              "      <td>NaN</td>\n",
              "      <td>NaN</td>\n",
              "      <td>BORDEAUX-STYLE RED BLEND</td>\n",
              "      <td>Château Figeac</td>\n",
              "      <td>43.367316</td>\n",
              "      <td>40.651991</td>\n",
              "      <td>48.408807</td>\n",
              "      <td>135.000000</td>\n",
              "      <td>1</td>\n",
              "      <td>0</td>\n",
              "      <td>0</td>\n",
              "      <td>0</td>\n",
              "      <td>0</td>\n",
              "      <td>1</td>\n",
              "      <td>0</td>\n",
              "      <td>0</td>\n",
              "      <td>0</td>\n",
              "      <td>1</td>\n",
              "      <td>0</td>\n",
              "      <td>0</td>\n",
              "      <td>0</td>\n",
              "    </tr>\n",
              "    <tr>\n",
              "      <th>3</th>\n",
              "      <td>US</td>\n",
              "      <td>Rich, ripe and oaky, this Petite Sirah charms ...</td>\n",
              "      <td>Thompson Vineyard</td>\n",
              "      <td>124405</td>\n",
              "      <td>NaN</td>\n",
              "      <td>89.869797</td>\n",
              "      <td>34.0</td>\n",
              "      <td>35.153079</td>\n",
              "      <td>37.268083</td>\n",
              "      <td>30.287336</td>\n",
              "      <td>38.294118</td>\n",
              "      <td>California</td>\n",
              "      <td>Santa Barbara County</td>\n",
              "      <td>Central Coast</td>\n",
              "      <td>NaN</td>\n",
              "      <td>NaN</td>\n",
              "      <td>Jaffurs 2010 Thompson Vineyard Petite Sirah (S...</td>\n",
              "      <td>PETITE SIRAH</td>\n",
              "      <td>Jaffurs</td>\n",
              "      <td>35.153079</td>\n",
              "      <td>37.268083</td>\n",
              "      <td>30.287336</td>\n",
              "      <td>38.294118</td>\n",
              "      <td>0</td>\n",
              "      <td>1</td>\n",
              "      <td>0</td>\n",
              "      <td>0</td>\n",
              "      <td>0</td>\n",
              "      <td>0</td>\n",
              "      <td>1</td>\n",
              "      <td>0</td>\n",
              "      <td>0</td>\n",
              "      <td>0</td>\n",
              "      <td>1</td>\n",
              "      <td>0</td>\n",
              "      <td>0</td>\n",
              "    </tr>\n",
              "    <tr>\n",
              "      <th>4</th>\n",
              "      <td>US</td>\n",
              "      <td>This wine is a unique in the state blend and f...</td>\n",
              "      <td>McKinley Springs Vineyard</td>\n",
              "      <td>33649</td>\n",
              "      <td>NaN</td>\n",
              "      <td>89.017651</td>\n",
              "      <td>24.0</td>\n",
              "      <td>35.153079</td>\n",
              "      <td>30.977910</td>\n",
              "      <td>18.263484</td>\n",
              "      <td>28.457447</td>\n",
              "      <td>Washington</td>\n",
              "      <td>Horse Heaven Hills</td>\n",
              "      <td>Columbia Valley</td>\n",
              "      <td>Sean P. Sullivan</td>\n",
              "      <td>@wawinereport</td>\n",
              "      <td>Syncline 2016 McKinley Springs Vineyard Rosé (...</td>\n",
              "      <td>ROSé</td>\n",
              "      <td>Syncline</td>\n",
              "      <td>35.153079</td>\n",
              "      <td>30.977910</td>\n",
              "      <td>18.263484</td>\n",
              "      <td>28.457447</td>\n",
              "      <td>0</td>\n",
              "      <td>1</td>\n",
              "      <td>0</td>\n",
              "      <td>0</td>\n",
              "      <td>0</td>\n",
              "      <td>0</td>\n",
              "      <td>1</td>\n",
              "      <td>0</td>\n",
              "      <td>0</td>\n",
              "      <td>0</td>\n",
              "      <td>0</td>\n",
              "      <td>0</td>\n",
              "      <td>1</td>\n",
              "    </tr>\n",
              "  </tbody>\n",
              "</table>\n",
              "</div>"
            ],
            "text/plain": [
              "    country                                        description  ... b20  b10\n",
              "0  Portugal  This is a fine rich balanced wine. It has ripe...  ...   1    0\n",
              "1    France  A solid, chunky wine, with a structure that is...  ...   0    0\n",
              "2    France  This is powerful and concentrated, with the hi...  ...   0    0\n",
              "3        US  Rich, ripe and oaky, this Petite Sirah charms ...  ...   0    0\n",
              "4        US  This wine is a unique in the state blend and f...  ...   0    1\n",
              "\n",
              "[5 rows x 36 columns]"
            ]
          },
          "metadata": {
            "tags": []
          },
          "execution_count": 468
        }
      ]
    },
    {
      "cell_type": "code",
      "metadata": {
        "id": "VAJWyDkAJyY9",
        "colab_type": "code",
        "colab": {
          "base_uri": "https://localhost:8080/",
          "height": 574
        },
        "outputId": "3a51da2c-dd37-412a-c553-a4486fa24fce"
      },
      "source": [
        "train.head()"
      ],
      "execution_count": null,
      "outputs": [
        {
          "output_type": "execute_result",
          "data": {
            "text/html": [
              "<div>\n",
              "<style scoped>\n",
              "    .dataframe tbody tr th:only-of-type {\n",
              "        vertical-align: middle;\n",
              "    }\n",
              "\n",
              "    .dataframe tbody tr th {\n",
              "        vertical-align: top;\n",
              "    }\n",
              "\n",
              "    .dataframe thead th {\n",
              "        text-align: right;\n",
              "    }\n",
              "</style>\n",
              "<table border=\"1\" class=\"dataframe\">\n",
              "  <thead>\n",
              "    <tr style=\"text-align: right;\">\n",
              "      <th></th>\n",
              "      <th>country</th>\n",
              "      <th>description</th>\n",
              "      <th>designation</th>\n",
              "      <th>id</th>\n",
              "      <th>index</th>\n",
              "      <th>points</th>\n",
              "      <th>price</th>\n",
              "      <th>province</th>\n",
              "      <th>region_1</th>\n",
              "      <th>region_2</th>\n",
              "      <th>taster_name</th>\n",
              "      <th>taster_twitter_handle</th>\n",
              "      <th>title</th>\n",
              "      <th>variety</th>\n",
              "      <th>winery</th>\n",
              "      <th>price_per_country</th>\n",
              "      <th>price_per_province</th>\n",
              "      <th>price_per_variety</th>\n",
              "      <th>price_per_winery</th>\n",
              "      <th>europe</th>\n",
              "      <th>north_america</th>\n",
              "      <th>south_america</th>\n",
              "      <th>africa</th>\n",
              "      <th>asia</th>\n",
              "      <th>a40</th>\n",
              "      <th>a30</th>\n",
              "      <th>a20</th>\n",
              "      <th>a10</th>\n",
              "      <th>b40</th>\n",
              "      <th>b30</th>\n",
              "      <th>b20</th>\n",
              "      <th>b10</th>\n",
              "    </tr>\n",
              "  </thead>\n",
              "  <tbody>\n",
              "    <tr>\n",
              "      <th>0</th>\n",
              "      <td>Portugal</td>\n",
              "      <td>This is a fine rich balanced wine. It has ripe...</td>\n",
              "      <td>Vila Santa Reserva</td>\n",
              "      <td>32027</td>\n",
              "      <td>NaN</td>\n",
              "      <td>88.870874</td>\n",
              "      <td>20.0</td>\n",
              "      <td>Alentejano</td>\n",
              "      <td>NaN</td>\n",
              "      <td>NaN</td>\n",
              "      <td>NaN</td>\n",
              "      <td>NaN</td>\n",
              "      <td>NaN</td>\n",
              "      <td>PORTUGUESE RED</td>\n",
              "      <td>J. Portugal Ramos</td>\n",
              "      <td>26.060501</td>\n",
              "      <td>22.461613</td>\n",
              "      <td>24.285346</td>\n",
              "      <td>18.969697</td>\n",
              "      <td>1</td>\n",
              "      <td>0</td>\n",
              "      <td>0</td>\n",
              "      <td>0</td>\n",
              "      <td>0</td>\n",
              "      <td>0</td>\n",
              "      <td>0</td>\n",
              "      <td>1</td>\n",
              "      <td>0</td>\n",
              "      <td>0</td>\n",
              "      <td>0</td>\n",
              "      <td>1</td>\n",
              "      <td>0</td>\n",
              "    </tr>\n",
              "    <tr>\n",
              "      <th>1</th>\n",
              "      <td>France</td>\n",
              "      <td>A solid, chunky wine, with a structure that is...</td>\n",
              "      <td>NaN</td>\n",
              "      <td>71079</td>\n",
              "      <td>NaN</td>\n",
              "      <td>88.041695</td>\n",
              "      <td>28.0</td>\n",
              "      <td>Bordeaux</td>\n",
              "      <td>Lalande de Pomerol</td>\n",
              "      <td>NaN</td>\n",
              "      <td>NaN</td>\n",
              "      <td>NaN</td>\n",
              "      <td>NaN</td>\n",
              "      <td>BORDEAUX-STYLE RED BLEND</td>\n",
              "      <td>Château Tour Grand Colombier</td>\n",
              "      <td>43.367316</td>\n",
              "      <td>40.651991</td>\n",
              "      <td>48.408807</td>\n",
              "      <td>28.000000</td>\n",
              "      <td>1</td>\n",
              "      <td>0</td>\n",
              "      <td>0</td>\n",
              "      <td>0</td>\n",
              "      <td>0</td>\n",
              "      <td>1</td>\n",
              "      <td>0</td>\n",
              "      <td>0</td>\n",
              "      <td>0</td>\n",
              "      <td>1</td>\n",
              "      <td>0</td>\n",
              "      <td>0</td>\n",
              "      <td>0</td>\n",
              "    </tr>\n",
              "    <tr>\n",
              "      <th>2</th>\n",
              "      <td>France</td>\n",
              "      <td>This is powerful and concentrated, with the hi...</td>\n",
              "      <td>NaN</td>\n",
              "      <td>32440</td>\n",
              "      <td>NaN</td>\n",
              "      <td>94.085021</td>\n",
              "      <td>130.0</td>\n",
              "      <td>Bordeaux</td>\n",
              "      <td>Saint-Émilion</td>\n",
              "      <td>NaN</td>\n",
              "      <td>NaN</td>\n",
              "      <td>NaN</td>\n",
              "      <td>NaN</td>\n",
              "      <td>BORDEAUX-STYLE RED BLEND</td>\n",
              "      <td>Château Figeac</td>\n",
              "      <td>43.367316</td>\n",
              "      <td>40.651991</td>\n",
              "      <td>48.408807</td>\n",
              "      <td>135.000000</td>\n",
              "      <td>1</td>\n",
              "      <td>0</td>\n",
              "      <td>0</td>\n",
              "      <td>0</td>\n",
              "      <td>0</td>\n",
              "      <td>1</td>\n",
              "      <td>0</td>\n",
              "      <td>0</td>\n",
              "      <td>0</td>\n",
              "      <td>1</td>\n",
              "      <td>0</td>\n",
              "      <td>0</td>\n",
              "      <td>0</td>\n",
              "    </tr>\n",
              "    <tr>\n",
              "      <th>3</th>\n",
              "      <td>US</td>\n",
              "      <td>Rich, ripe and oaky, this Petite Sirah charms ...</td>\n",
              "      <td>Thompson Vineyard</td>\n",
              "      <td>124405</td>\n",
              "      <td>NaN</td>\n",
              "      <td>89.869797</td>\n",
              "      <td>34.0</td>\n",
              "      <td>California</td>\n",
              "      <td>Santa Barbara County</td>\n",
              "      <td>Central Coast</td>\n",
              "      <td>NaN</td>\n",
              "      <td>NaN</td>\n",
              "      <td>Jaffurs 2010 Thompson Vineyard Petite Sirah (S...</td>\n",
              "      <td>PETITE SIRAH</td>\n",
              "      <td>Jaffurs</td>\n",
              "      <td>35.153079</td>\n",
              "      <td>37.268083</td>\n",
              "      <td>30.287336</td>\n",
              "      <td>38.294118</td>\n",
              "      <td>0</td>\n",
              "      <td>1</td>\n",
              "      <td>0</td>\n",
              "      <td>0</td>\n",
              "      <td>0</td>\n",
              "      <td>0</td>\n",
              "      <td>1</td>\n",
              "      <td>0</td>\n",
              "      <td>0</td>\n",
              "      <td>0</td>\n",
              "      <td>1</td>\n",
              "      <td>0</td>\n",
              "      <td>0</td>\n",
              "    </tr>\n",
              "    <tr>\n",
              "      <th>4</th>\n",
              "      <td>US</td>\n",
              "      <td>This wine is a unique in the state blend and f...</td>\n",
              "      <td>McKinley Springs Vineyard</td>\n",
              "      <td>33649</td>\n",
              "      <td>NaN</td>\n",
              "      <td>89.017651</td>\n",
              "      <td>24.0</td>\n",
              "      <td>Washington</td>\n",
              "      <td>Horse Heaven Hills</td>\n",
              "      <td>Columbia Valley</td>\n",
              "      <td>Sean P. Sullivan</td>\n",
              "      <td>@wawinereport</td>\n",
              "      <td>Syncline 2016 McKinley Springs Vineyard Rosé (...</td>\n",
              "      <td>ROSé</td>\n",
              "      <td>Syncline</td>\n",
              "      <td>35.153079</td>\n",
              "      <td>30.977910</td>\n",
              "      <td>18.263484</td>\n",
              "      <td>28.457447</td>\n",
              "      <td>0</td>\n",
              "      <td>1</td>\n",
              "      <td>0</td>\n",
              "      <td>0</td>\n",
              "      <td>0</td>\n",
              "      <td>0</td>\n",
              "      <td>1</td>\n",
              "      <td>0</td>\n",
              "      <td>0</td>\n",
              "      <td>0</td>\n",
              "      <td>0</td>\n",
              "      <td>0</td>\n",
              "      <td>1</td>\n",
              "    </tr>\n",
              "  </tbody>\n",
              "</table>\n",
              "</div>"
            ],
            "text/plain": [
              "    country                                        description  ... b20  b10\n",
              "0  Portugal  This is a fine rich balanced wine. It has ripe...  ...   1    0\n",
              "1    France  A solid, chunky wine, with a structure that is...  ...   0    0\n",
              "2    France  This is powerful and concentrated, with the hi...  ...   0    0\n",
              "3        US  Rich, ripe and oaky, this Petite Sirah charms ...  ...   0    0\n",
              "4        US  This wine is a unique in the state blend and f...  ...   0    1\n",
              "\n",
              "[5 rows x 32 columns]"
            ]
          },
          "metadata": {
            "tags": []
          },
          "execution_count": 516
        }
      ]
    },
    {
      "cell_type": "code",
      "metadata": {
        "id": "JCzDnX6fTtlJ",
        "colab_type": "code",
        "colab": {}
      },
      "source": [
        "Y=train.price\n"
      ],
      "execution_count": null,
      "outputs": []
    },
    {
      "cell_type": "code",
      "metadata": {
        "id": "c32rz2EnUFSi",
        "colab_type": "code",
        "colab": {}
      },
      "source": [
        "train=train[[\"points\",\"a40\",\"a30\",\"a20\",\"a10\",\"b40\",\"b30\",\"b20\",\"b10\",'europe','north_america','south_america','asia','africa','price_per_country','price_per_province','price_per_variety','price_per_winery']]"
      ],
      "execution_count": null,
      "outputs": []
    },
    {
      "cell_type": "code",
      "metadata": {
        "id": "CLWeRjIVFup3",
        "colab_type": "code",
        "colab": {
          "base_uri": "https://localhost:8080/",
          "height": 574
        },
        "outputId": "89ed4133-29c3-4fd8-de94-e5f14a30c014"
      },
      "source": [
        "train.head()"
      ],
      "execution_count": null,
      "outputs": [
        {
          "output_type": "execute_result",
          "data": {
            "text/html": [
              "<div>\n",
              "<style scoped>\n",
              "    .dataframe tbody tr th:only-of-type {\n",
              "        vertical-align: middle;\n",
              "    }\n",
              "\n",
              "    .dataframe tbody tr th {\n",
              "        vertical-align: top;\n",
              "    }\n",
              "\n",
              "    .dataframe thead th {\n",
              "        text-align: right;\n",
              "    }\n",
              "</style>\n",
              "<table border=\"1\" class=\"dataframe\">\n",
              "  <thead>\n",
              "    <tr style=\"text-align: right;\">\n",
              "      <th></th>\n",
              "      <th>country</th>\n",
              "      <th>description</th>\n",
              "      <th>designation</th>\n",
              "      <th>points</th>\n",
              "      <th>price</th>\n",
              "      <th>province</th>\n",
              "      <th>region_1</th>\n",
              "      <th>region_2</th>\n",
              "      <th>taster_name</th>\n",
              "      <th>taster_twitter_handle</th>\n",
              "      <th>title</th>\n",
              "      <th>variety</th>\n",
              "      <th>winery</th>\n",
              "      <th>id</th>\n",
              "      <th>europe</th>\n",
              "      <th>north_america</th>\n",
              "      <th>south_america</th>\n",
              "      <th>africa</th>\n",
              "      <th>asia</th>\n",
              "      <th>a40</th>\n",
              "      <th>a30</th>\n",
              "      <th>a20</th>\n",
              "      <th>a10</th>\n",
              "      <th>b40</th>\n",
              "      <th>b30</th>\n",
              "      <th>b20</th>\n",
              "      <th>b10</th>\n",
              "      <th>price_per_country</th>\n",
              "      <th>price_per_province</th>\n",
              "      <th>price_per_variety</th>\n",
              "      <th>price_per_winery</th>\n",
              "    </tr>\n",
              "  </thead>\n",
              "  <tbody>\n",
              "    <tr>\n",
              "      <th>0</th>\n",
              "      <td>Portugal</td>\n",
              "      <td>This is a fine rich balanced wine. It has ripe...</td>\n",
              "      <td>Vila Santa Reserva</td>\n",
              "      <td>88.870874</td>\n",
              "      <td>3.044522</td>\n",
              "      <td>Alentejano</td>\n",
              "      <td>NaN</td>\n",
              "      <td>NaN</td>\n",
              "      <td>NaN</td>\n",
              "      <td>NaN</td>\n",
              "      <td>NaN</td>\n",
              "      <td>PORTUGUESE RED</td>\n",
              "      <td>J. Portugal Ramos</td>\n",
              "      <td>32027</td>\n",
              "      <td>1</td>\n",
              "      <td>0</td>\n",
              "      <td>0</td>\n",
              "      <td>0</td>\n",
              "      <td>0</td>\n",
              "      <td>0</td>\n",
              "      <td>0</td>\n",
              "      <td>1</td>\n",
              "      <td>0</td>\n",
              "      <td>0</td>\n",
              "      <td>0</td>\n",
              "      <td>1</td>\n",
              "      <td>0</td>\n",
              "      <td>26.060501</td>\n",
              "      <td>22.461613</td>\n",
              "      <td>24.285346</td>\n",
              "      <td>18.969697</td>\n",
              "    </tr>\n",
              "    <tr>\n",
              "      <th>1</th>\n",
              "      <td>France</td>\n",
              "      <td>A solid, chunky wine, with a structure that is...</td>\n",
              "      <td>NaN</td>\n",
              "      <td>88.041695</td>\n",
              "      <td>3.367296</td>\n",
              "      <td>Bordeaux</td>\n",
              "      <td>Lalande de Pomerol</td>\n",
              "      <td>NaN</td>\n",
              "      <td>NaN</td>\n",
              "      <td>NaN</td>\n",
              "      <td>NaN</td>\n",
              "      <td>BORDEAUX-STYLE RED BLEND</td>\n",
              "      <td>Château Tour Grand Colombier</td>\n",
              "      <td>71079</td>\n",
              "      <td>1</td>\n",
              "      <td>0</td>\n",
              "      <td>0</td>\n",
              "      <td>0</td>\n",
              "      <td>0</td>\n",
              "      <td>1</td>\n",
              "      <td>0</td>\n",
              "      <td>0</td>\n",
              "      <td>0</td>\n",
              "      <td>1</td>\n",
              "      <td>0</td>\n",
              "      <td>0</td>\n",
              "      <td>0</td>\n",
              "      <td>43.367316</td>\n",
              "      <td>40.651991</td>\n",
              "      <td>48.408807</td>\n",
              "      <td>28.000000</td>\n",
              "    </tr>\n",
              "    <tr>\n",
              "      <th>2</th>\n",
              "      <td>France</td>\n",
              "      <td>This is powerful and concentrated, with the hi...</td>\n",
              "      <td>NaN</td>\n",
              "      <td>94.085021</td>\n",
              "      <td>4.875197</td>\n",
              "      <td>Bordeaux</td>\n",
              "      <td>Saint-Émilion</td>\n",
              "      <td>NaN</td>\n",
              "      <td>NaN</td>\n",
              "      <td>NaN</td>\n",
              "      <td>NaN</td>\n",
              "      <td>BORDEAUX-STYLE RED BLEND</td>\n",
              "      <td>Château Figeac</td>\n",
              "      <td>32440</td>\n",
              "      <td>1</td>\n",
              "      <td>0</td>\n",
              "      <td>0</td>\n",
              "      <td>0</td>\n",
              "      <td>0</td>\n",
              "      <td>1</td>\n",
              "      <td>0</td>\n",
              "      <td>0</td>\n",
              "      <td>0</td>\n",
              "      <td>1</td>\n",
              "      <td>0</td>\n",
              "      <td>0</td>\n",
              "      <td>0</td>\n",
              "      <td>43.367316</td>\n",
              "      <td>40.651991</td>\n",
              "      <td>48.408807</td>\n",
              "      <td>135.000000</td>\n",
              "    </tr>\n",
              "    <tr>\n",
              "      <th>3</th>\n",
              "      <td>US</td>\n",
              "      <td>Rich, ripe and oaky, this Petite Sirah charms ...</td>\n",
              "      <td>Thompson Vineyard</td>\n",
              "      <td>89.869797</td>\n",
              "      <td>3.555348</td>\n",
              "      <td>California</td>\n",
              "      <td>Santa Barbara County</td>\n",
              "      <td>Central Coast</td>\n",
              "      <td>NaN</td>\n",
              "      <td>NaN</td>\n",
              "      <td>Jaffurs 2010 Thompson Vineyard Petite Sirah (S...</td>\n",
              "      <td>PETITE SIRAH</td>\n",
              "      <td>Jaffurs</td>\n",
              "      <td>124405</td>\n",
              "      <td>0</td>\n",
              "      <td>1</td>\n",
              "      <td>0</td>\n",
              "      <td>0</td>\n",
              "      <td>0</td>\n",
              "      <td>0</td>\n",
              "      <td>1</td>\n",
              "      <td>0</td>\n",
              "      <td>0</td>\n",
              "      <td>0</td>\n",
              "      <td>1</td>\n",
              "      <td>0</td>\n",
              "      <td>0</td>\n",
              "      <td>35.153079</td>\n",
              "      <td>37.268083</td>\n",
              "      <td>30.287336</td>\n",
              "      <td>38.294118</td>\n",
              "    </tr>\n",
              "    <tr>\n",
              "      <th>4</th>\n",
              "      <td>US</td>\n",
              "      <td>This wine is a unique in the state blend and f...</td>\n",
              "      <td>McKinley Springs Vineyard</td>\n",
              "      <td>89.017651</td>\n",
              "      <td>3.218876</td>\n",
              "      <td>Washington</td>\n",
              "      <td>Horse Heaven Hills</td>\n",
              "      <td>Columbia Valley</td>\n",
              "      <td>Sean P. Sullivan</td>\n",
              "      <td>@wawinereport</td>\n",
              "      <td>Syncline 2016 McKinley Springs Vineyard Rosé (...</td>\n",
              "      <td>ROSé</td>\n",
              "      <td>Syncline</td>\n",
              "      <td>33649</td>\n",
              "      <td>0</td>\n",
              "      <td>1</td>\n",
              "      <td>0</td>\n",
              "      <td>0</td>\n",
              "      <td>0</td>\n",
              "      <td>0</td>\n",
              "      <td>1</td>\n",
              "      <td>0</td>\n",
              "      <td>0</td>\n",
              "      <td>0</td>\n",
              "      <td>0</td>\n",
              "      <td>0</td>\n",
              "      <td>1</td>\n",
              "      <td>35.153079</td>\n",
              "      <td>30.977910</td>\n",
              "      <td>18.263484</td>\n",
              "      <td>28.457447</td>\n",
              "    </tr>\n",
              "  </tbody>\n",
              "</table>\n",
              "</div>"
            ],
            "text/plain": [
              "    country  ... price_per_winery\n",
              "0  Portugal  ...        18.969697\n",
              "1    France  ...        28.000000\n",
              "2    France  ...       135.000000\n",
              "3        US  ...        38.294118\n",
              "4        US  ...        28.457447\n",
              "\n",
              "[5 rows x 31 columns]"
            ]
          },
          "metadata": {
            "tags": []
          },
          "execution_count": 426
        }
      ]
    },
    {
      "cell_type": "markdown",
      "metadata": {
        "id": "ywoinnJg6-QO",
        "colab_type": "text"
      },
      "source": [
        ""
      ]
    },
    {
      "cell_type": "code",
      "metadata": {
        "id": "FVvGpVEuTo_-",
        "colab_type": "code",
        "colab": {}
      },
      "source": [
        "train_X, val_X, train_y, val_y = train_test_split(train,Y , test_size=0.20, random_state=4)"
      ],
      "execution_count": null,
      "outputs": []
    },
    {
      "cell_type": "markdown",
      "metadata": {
        "id": "_Ut3imBlTcSM",
        "colab_type": "text"
      },
      "source": [
        "# Let's try Lasso"
      ]
    },
    {
      "cell_type": "code",
      "metadata": {
        "id": "oNMlAhykUQ6R",
        "colab_type": "code",
        "colab": {}
      },
      "source": [
        "x=train_X.tolist()\n",
        "x=np.array(x)\n",
        "x=x.reshape(-1,1)\n",
        "train_X=x"
      ],
      "execution_count": null,
      "outputs": []
    },
    {
      "cell_type": "code",
      "metadata": {
        "id": "ulxq4fmqUePo",
        "colab_type": "code",
        "colab": {}
      },
      "source": [
        "x=val_X.tolist()\n",
        "x=np.array(x)\n",
        "x=x.reshape(-1,1)\n",
        "val_X=x"
      ],
      "execution_count": null,
      "outputs": []
    },
    {
      "cell_type": "code",
      "metadata": {
        "id": "bxA25n3-TTlP",
        "colab_type": "code",
        "colab": {
          "base_uri": "https://localhost:8080/",
          "height": 35
        },
        "outputId": "c01992e9-5fe3-47df-e927-3b00dd19f9a8"
      },
      "source": [
        "from sklearn import linear_model\n",
        "clf = linear_model.Lasso(alpha=0.05)\n",
        "clf.fit(train_X,train_y)\n",
        "val_pred = clf.predict(val_X)\n",
        "val_mae = np.sqrt(mean_squared_error(val_pred, val_y))\n",
        "print(val_mae)"
      ],
      "execution_count": null,
      "outputs": [
        {
          "output_type": "stream",
          "text": [
            "0.505761599821792\n"
          ],
          "name": "stdout"
        }
      ]
    },
    {
      "cell_type": "code",
      "metadata": {
        "id": "2TDerDKS01cK",
        "colab_type": "code",
        "colab": {
          "base_uri": "https://localhost:8080/",
          "height": 74
        },
        "outputId": "395413ba-20b6-483c-c8af-d136e99e9642"
      },
      "source": [
        "import xgboost as xgb\n",
        "xgb_model = xgb.XGBRegressor(\n",
        "                 gamma=0,                 \n",
        "                 learning_rate=0.1,\n",
        "                 max_depth=8,\n",
        "                 reg_alpha=0.0006,\n",
        "                 min_child_weight=1.5,\n",
        "                 n_estimators=500)                                                               \n",
        "xgb_model.fit(train_X,train_y)\n",
        "val_pred_xgb = xgb_model.predict(val_X)\n",
        "val_mae_xgb = np.sqrt(mean_squared_error(val_pred_xgb, val_y))\n",
        "print(val_mae_xgb)"
      ],
      "execution_count": null,
      "outputs": [
        {
          "output_type": "stream",
          "text": [
            "[16:06:06] WARNING: /workspace/src/objective/regression_obj.cu:152: reg:linear is now deprecated in favor of reg:squarederror.\n",
            "0.28560425442158793\n"
          ],
          "name": "stdout"
        }
      ]
    },
    {
      "cell_type": "code",
      "metadata": {
        "id": "iEEngS_bXXAq",
        "colab_type": "code",
        "colab": {
          "base_uri": "https://localhost:8080/",
          "height": 35
        },
        "outputId": "d4c99c49-3f89-4a25-869e-6146614f0115"
      },
      "source": [
        "import lightgbm as lgb\n",
        "lgb_model = lgb.LGBMRegressor(colsample_bytree=0.4,\n",
        "                 gamma=0,                 \n",
        "                 learning_rate=0.1,\n",
        "                 max_depth=10,\n",
        "                 min_child_weight=1.5,\n",
        "                 n_estimators=500,                                                                   \n",
        "                 reg_alpha=0.0006,\n",
        "                 reg_lambda=0.45,\n",
        "                 subsample=0.6,\n",
        "                 seed=42)\n",
        "lgb_model.fit(train_X,train_y)\n",
        "val_pred_lgb = lgb_model.predict(val_X)\n",
        "val_mae_lgb = np.sqrt(mean_squared_error(val_pred_lgb, val_y))\n",
        "print(val_mae_lgb)"
      ],
      "execution_count": null,
      "outputs": [
        {
          "output_type": "stream",
          "text": [
            "0.29954252161266487\n"
          ],
          "name": "stdout"
        }
      ]
    },
    {
      "cell_type": "code",
      "metadata": {
        "id": "TtSDKhhj5NgL",
        "colab_type": "code",
        "colab": {}
      },
      "source": [
        "from sklearn.ensemble import RandomForestRegressor\n",
        "regr = RandomForestRegressor(max_depth=8, random_state=0)\n",
        "regr.fit(train_X,train_y)\n",
        "val_pred_rf = regr.predict(val_X)\n",
        "val_mae_rf = np.sqrt(mean_squared_error(val_pred_rf, val_y))\n",
        "print(val_mae_rf)"
      ],
      "execution_count": null,
      "outputs": []
    },
    {
      "cell_type": "code",
      "metadata": {
        "id": "NZAsfDSwUqY8",
        "colab_type": "code",
        "colab": {}
      },
      "source": [
        "ids=test[\"id\"]\n"
      ],
      "execution_count": null,
      "outputs": []
    },
    {
      "cell_type": "code",
      "metadata": {
        "id": "1SLvR7teUuSB",
        "colab_type": "code",
        "colab": {
          "base_uri": "https://localhost:8080/",
          "height": 313
        },
        "outputId": "ac207153-a1bd-4bf6-affc-58105ae4c377"
      },
      "source": [
        "missing_percentage=(test.isna().sum()/len(test)).sort_values(ascending=False)\n",
        "missing_percentage"
      ],
      "execution_count": null,
      "outputs": [
        {
          "output_type": "execute_result",
          "data": {
            "text/plain": [
              "price                    1.000000\n",
              "taster_twitter_handle    0.647050\n",
              "taster_name              0.627809\n",
              "region_2                 0.572143\n",
              "title                    0.533878\n",
              "designation              0.298330\n",
              "region_1                 0.166843\n",
              "province                 0.000204\n",
              "country                  0.000204\n",
              "id                       0.000000\n",
              "winery                   0.000000\n",
              "variety                  0.000000\n",
              "points                   0.000000\n",
              "description              0.000000\n",
              "index                    0.000000\n",
              "dtype: float64"
            ]
          },
          "metadata": {
            "tags": []
          },
          "execution_count": 121
        }
      ]
    },
    {
      "cell_type": "code",
      "metadata": {
        "id": "KZV0NHouqFff",
        "colab_type": "code",
        "colab": {}
      },
      "source": [
        "co=test.country.tolist()\n",
        "a40=[0 for i in range(len(co))]\n",
        "a30=[0 for i in range(len(co))]\n",
        "a20=[0 for i in range(len(co))]\n",
        "a10=[0 for i in range(len(co))]\n",
        "for i in range(len(countries)):\n",
        "  if co[i]in cat40:\n",
        "    a40[i]=1\n",
        "  if co[i]in cat30:\n",
        "    a30[i]=1\n",
        "  if co[i]in cat20:\n",
        "    a20[i]=1\n",
        "  if co[i]in cat10:\n",
        "    a10[i]=1\n",
        "test[\"a40\"]=a40\n",
        "test[\"a30\"]=a30\n",
        "test[\"a20\"]=a20\n",
        "test[\"a10\"]=a10"
      ],
      "execution_count": null,
      "outputs": []
    },
    {
      "cell_type": "code",
      "metadata": {
        "id": "OqJ7zGUExF4o",
        "colab_type": "code",
        "colab": {}
      },
      "source": [
        "co=test.variety.tolist()\n",
        "a40=[0 for i in range(len(co))]\n",
        "a30=[0 for i in range(len(co))]\n",
        "a20=[0 for i in range(len(co))]\n",
        "a10=[0 for i in range(len(co))]\n",
        "for i in range(len(varieties)):\n",
        "  if co[i]in dat40:\n",
        "    a40[i]=1\n",
        "  if co[i]in dat30:\n",
        "    a30[i]=1\n",
        "  if co[i]in dat20:\n",
        "    a20[i]=1\n",
        "  if co[i]in dat10:\n",
        "    a10[i]=1\n",
        "test[\"b40\"]=a40\n",
        "test[\"b30\"]=a30\n",
        "test[\"b20\"]=a20\n",
        "test[\"b10\"]=a10"
      ],
      "execution_count": null,
      "outputs": []
    },
    {
      "cell_type": "code",
      "metadata": {
        "id": "0jSYf8h--Shj",
        "colab_type": "code",
        "colab": {}
      },
      "source": [
        "co=test.winery\n",
        "a40=[0 for i in range(len(co))]\n",
        "a30=[0 for i in range(len(co))]\n",
        "a20=[0 for i in range(len(co))]\n",
        "a10=[0 for i in range(len(co))]\n",
        "for i in range(len(wineries)):\n",
        "  if co[i]in cat40:\n",
        "    a40[i]=1\n",
        "  if co[i]in cat30:\n",
        "    a30[i]=1\n",
        "  if co[i]in cat20:\n",
        "    a20[i]=1\n",
        "  if co[i]in cat10:\n",
        "    a10[i]=1\n",
        "test[\"c40\"]=a40\n",
        "test[\"c30\"]=a30\n",
        "test[\"c20\"]=a20\n",
        "test[\"c10\"]=a10"
      ],
      "execution_count": null,
      "outputs": []
    },
    {
      "cell_type": "code",
      "metadata": {
        "id": "_iNXNlBeApk7",
        "colab_type": "code",
        "colab": {}
      },
      "source": [
        "co=test.country.tolist()\n",
        "a50=a40=[0 for i in range(len(co))]\n",
        "a40=[0 for i in range(len(co))]\n",
        "a30=[0 for i in range(len(co))]\n",
        "a20=[0 for i in range(len(co))]\n",
        "a10=[0 for i in range(len(co))]\n",
        "for i in range(len(countries)):\n",
        "  if co[i]in europe:\n",
        "    a40[i]=1\n",
        "  if co[i]in north_america:\n",
        "    a30[i]=1\n",
        "  if co[i]in south_america:\n",
        "    a20[i]=1\n",
        "  if co[i]in africa:\n",
        "    a10[i]=1\n",
        "  if co[i]in asia:\n",
        "    a50[i]=1\n",
        "test[\"europe\"]=a40\n",
        "test[\"north_america\"]=a30\n",
        "test[\"south_america\"]=a20\n",
        "test[\"africa\"]=a10\n",
        "test[\"asia\"]=a50"
      ],
      "execution_count": null,
      "outputs": []
    },
    {
      "cell_type": "code",
      "metadata": {
        "id": "udIzwrr5U7sK",
        "colab_type": "code",
        "colab": {}
      },
      "source": [
        "test=test[[\"points\",\"a40\",\"a30\",\"a20\",\"a10\",\"b40\",\"b30\",\"b20\",\"b10\",'europe','north_america','south_america','asia','africa','price_per_country','price_per_province','price_per_variety','price_per_winery']]"
      ],
      "execution_count": null,
      "outputs": []
    },
    {
      "cell_type": "code",
      "metadata": {
        "id": "KnpPrp7_VB-w",
        "colab_type": "code",
        "colab": {}
      },
      "source": [
        "x=test.tolist()\n",
        "x=np.array(x)\n",
        "x=x.reshape(-1,1)\n",
        "test=x"
      ],
      "execution_count": null,
      "outputs": []
    },
    {
      "cell_type": "code",
      "metadata": {
        "id": "9kCRonf1TToZ",
        "colab_type": "code",
        "colab": {}
      },
      "source": [
        "# make predictions which we will submit. \n",
        "test_preds = clf.predict(test)\n",
        "\n",
        "# The lines below shows how to save predictions in format used for competition scoring\n",
        "# Just uncomment them.\n",
        "output = pd.DataFrame({'id': ids, 'price': np.expm1(test_preds)})\n",
        "output.to_csv('/content/drive/My Drive/KaggleDays/sub_lasso.csv', index=False)"
      ],
      "execution_count": null,
      "outputs": []
    },
    {
      "cell_type": "code",
      "metadata": {
        "id": "JJ5H6YMNTTqo",
        "colab_type": "code",
        "colab": {}
      },
      "source": [
        "# make predictions which we will submit. \n",
        "test_preds_lgb = lgb_model.predict(test)\n",
        "\n",
        "# The lines below shows how to save predictions in format used for competition scoring\n",
        "# Just uncomment them.\n",
        "output = pd.DataFrame({'id': ids, 'price': np.expm1(test_preds_lgb)})\n",
        "output.to_csv('/content/drive/My Drive/KaggleDays/sub_lgb.csv', index=False)"
      ],
      "execution_count": null,
      "outputs": []
    },
    {
      "cell_type": "code",
      "metadata": {
        "id": "TXixb2kkTTtM",
        "colab_type": "code",
        "colab": {}
      },
      "source": [
        "# make predictions which we will submit. \n",
        "test_preds_xgb = xgb_model.predict(test)\n",
        "\n",
        "# The lines below shows how to save predictions in format used for competition scoring\n",
        "# Just uncomment them.\n",
        "output = pd.DataFrame({'id': ids, 'price': np.expm1(test_preds_xgb)})\n",
        "output.to_csv('/content/drive/My Drive/KaggleDays/sub_xgb.csv', index=False)"
      ],
      "execution_count": null,
      "outputs": []
    },
    {
      "cell_type": "code",
      "metadata": {
        "id": "AG_zsmvU5l1H",
        "colab_type": "code",
        "colab": {}
      },
      "source": [
        "# make predictions which we will submit. \n",
        "test_preds_rf = regr.predict(test)\n",
        "\n",
        "# The lines below shows how to save predictions in format used for competition scoring\n",
        "# Just uncomment them.\n",
        "output = pd.DataFrame({'id': ids, 'price': np.expm1(test_preds_rf)})\n",
        "output.to_csv('/content/drive/My Drive/KaggleDays/sub_rf.csv', index=False)"
      ],
      "execution_count": null,
      "outputs": []
    },
    {
      "cell_type": "code",
      "metadata": {
        "id": "2CJMrbO12Wwm",
        "colab_type": "code",
        "colab": {}
      },
      "source": [
        "# make predictions which we will submit. \n",
        "test_preds_m5alet = 0.6*test_preds_xgb+0.4*test_preds_lgb\n",
        "\n",
        "# The lines below shows how to save predictions in format used for competition scoring\n",
        "# Just uncomment them.\n",
        "output = pd.DataFrame({'id': ids, 'price': np.expm1(test_preds_m5alet)})\n",
        "output.to_csv('/content/drive/My Drive/KaggleDays/m5alet.csv', index=False)"
      ],
      "execution_count": null,
      "outputs": []
    }
  ]
}